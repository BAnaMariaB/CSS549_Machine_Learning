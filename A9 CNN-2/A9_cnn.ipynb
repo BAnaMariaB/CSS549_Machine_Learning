{
  "cells": [
    {
      "cell_type": "markdown",
      "metadata": {
        "id": "9SO24-keTqiP"
      },
      "source": [
        "# CS549 Machine Learning\n",
        "# Assignment 9: Convolutional Neural Network  for image classification - Irfan Khan\n",
        "\n",
        "\n",
        "**Total points: 10**\n",
        "\n",
        "In this assignment, you will implement a fully functioning ConvNet model using PyTorch. You will use the model to conduct image classification on the MNIST dataset (handwritten digits). https://en.wikipedia.org/wiki/MNIST_database\n",
        "\n",
        "<img src='A9image0.png'>"
      ]
    },
    {
      "cell_type": "code",
      "execution_count": 1,
      "metadata": {
        "id": "bOEjt0POTqiS"
      },
      "outputs": [],
      "source": [
        "#Import required packages\n",
        "import torch\n",
        "from torch import nn\n",
        "from torch.utils.data import DataLoader\n",
        "from torchvision import datasets, transforms\n",
        "import matplotlib.pyplot as plt\n",
        "import random"
      ]
    },
    {
      "cell_type": "markdown",
      "metadata": {
        "id": "s9eqs8CGTqiU"
      },
      "source": [
        "# For repeatability among all students and runs, set random seed to 42."
      ]
    },
    {
      "cell_type": "code",
      "execution_count": 2,
      "metadata": {
        "colab": {
          "base_uri": "https://localhost:8080/"
        },
        "id": "IRdqCCoaTqiV",
        "outputId": "cfc90c05-64d0-49d7-f8f4-d8969e253efb"
      },
      "outputs": [
        {
          "output_type": "execute_result",
          "data": {
            "text/plain": [
              "<torch._C.Generator at 0x7f0ccea5de50>"
            ]
          },
          "metadata": {},
          "execution_count": 2
        }
      ],
      "source": [
        "\n",
        "# Set the seed for PyTorch.\n",
        "torch_seed = 42\n",
        "torch.manual_seed(torch_seed)\n"
      ]
    },
    {
      "cell_type": "markdown",
      "metadata": {
        "id": "vSkqtoMuTqiV"
      },
      "source": [
        "## Load Data"
      ]
    },
    {
      "cell_type": "code",
      "execution_count": 3,
      "metadata": {
        "colab": {
          "base_uri": "https://localhost:8080/"
        },
        "id": "5ZXQAJPlTqiW",
        "outputId": "baaf99c6-8b93-4f9c-9059-e8f5c856ec20"
      },
      "outputs": [
        {
          "output_type": "stream",
          "name": "stderr",
          "text": [
            "100%|██████████| 9.91M/9.91M [00:00<00:00, 37.8MB/s]\n",
            "100%|██████████| 28.9k/28.9k [00:00<00:00, 1.18MB/s]\n",
            "100%|██████████| 1.65M/1.65M [00:00<00:00, 10.4MB/s]\n",
            "100%|██████████| 4.54k/4.54k [00:00<00:00, 4.53MB/s]"
          ]
        },
        {
          "output_type": "stream",
          "name": "stdout",
          "text": [
            "train_size 60000\n",
            "test_size 10000\n"
          ]
        },
        {
          "output_type": "stream",
          "name": "stderr",
          "text": [
            "\n"
          ]
        }
      ],
      "source": [
        "#Load Data. Split into Training Data and Test data and create dataloaders for each.\n",
        "#Normalization values (0.1307, 0.3081) are often used, for the MNIST dataset\n",
        "\n",
        "transform = transforms.Compose([transforms.ToTensor(), transforms.Normalize((0.1307,), (0.3081,))])\n",
        "\n",
        "train_data = datasets.MNIST(root='./data', train=True, download=True, transform=transform)\n",
        "test_data = datasets.MNIST(root='./data', train=False, download=True, transform=transform)\n",
        "\n",
        "train_size = len(train_data)\n",
        "print ('train_size', train_size)\n",
        "\n",
        "test_size = len(test_data)\n",
        "\n",
        "print ('test_size', test_size)\n",
        "\n",
        "\n",
        "\n",
        "train_loader = DataLoader(train_data, batch_size=64, shuffle=False)\n",
        "test_loader = DataLoader(test_data,batch_size=1, shuffle=False)\n"
      ]
    },
    {
      "cell_type": "markdown",
      "metadata": {
        "id": "vgqdS2g1TqiW"
      },
      "source": [
        "## Expected Output\n",
        "\n",
        "train_size 60000<br>\n",
        "test_size 10000"
      ]
    },
    {
      "cell_type": "markdown",
      "metadata": {
        "id": "rk1TljueTqiW"
      },
      "source": [
        "## Visualize Data"
      ]
    },
    {
      "cell_type": "code",
      "execution_count": 4,
      "metadata": {
        "colab": {
          "base_uri": "https://localhost:8080/",
          "height": 452
        },
        "id": "Ax5Mq6DyTqiW",
        "outputId": "224d1d64-9aea-4041-ecd1-0d9d684b5d5c"
      },
      "outputs": [
        {
          "output_type": "display_data",
          "data": {
            "text/plain": [
              "<Figure size 640x480 with 1 Axes>"
            ],
            "image/png": "[encoded data removed]"
          },
          "metadata": {}
        }
      ],
      "source": [
        "for images, labels in train_loader:\n",
        "    # Visualize the first image in the batch\n",
        "    plt.imshow(images[0].squeeze(), cmap='gray')\n",
        "    plt.title(f\"Label: {labels[0]}\")\n",
        "    plt.show()\n",
        "    break  # Break after visualizing the first image in the batch"
      ]
    },
    {
      "cell_type": "markdown",
      "metadata": {
        "id": "nPs5oj47TqiX"
      },
      "source": [
        "## Expected Output\n",
        "\n",
        "<img src='A9image1.png'>"
      ]
    },
    {
      "cell_type": "markdown",
      "metadata": {
        "id": "0fAzFnyLTqiX"
      },
      "source": [
        "## Define ConvNet Class"
      ]
    },
    {
      "cell_type": "code",
      "execution_count": 5,
      "metadata": {
        "id": "q4aiJukhTqiY"
      },
      "outputs": [],
      "source": [
        "class MNISTClassifier(nn.Module):\n",
        "    def __init__(self):\n",
        "        super(MNISTClassifier, self).__init__()\n",
        "        self.conv1 = nn.Conv2d(1, 6, 5)  # Input channels (1 for grayscale), output channels (6 filters), kernel size 5\n",
        "        self.pool = nn.MaxPool2d(2, 2)#Kernel size 2, stride 2\n",
        "        self.conv2 = nn.Conv2d(6, 16, 5)\n",
        "        self.fc1 = nn.Linear(16 * 4 * 4, 120)  # Adjust based on input size after conv2.\n",
        "        #Pooling layer is also applied after the 2nd Conv Layer\n",
        "        self.fc2 = nn.Linear(120, 84)\n",
        "        self.fc3 = nn.Linear(84, 10)  # Output: 10 class probabilities (0-9)\n",
        "\n",
        "    def forward(self, x):\n",
        "        x = self.pool(torch.relu(self.conv1(x)))\n",
        "        x = self.pool(torch.relu(self.conv2(x)))#Pooling layer is also applied after the 2nd Conv Layer\n",
        "        x = x.view(-1, 16 * 4 * 4)  # Flatten for FC layers, The -1 in the first dimension means it will preserve the batch size\n",
        "        x = torch.relu(self.fc1(x))\n",
        "        x = torch.relu(self.fc2(x))\n",
        "        x = self.fc3(x) #Logits will get returned\n",
        "\n",
        "        return x"
      ]
    },
    {
      "cell_type": "markdown",
      "metadata": {
        "id": "OnO6KGMbTqiY"
      },
      "source": [
        "# Create an instance of the class\n",
        "\n",
        "Define the loss criterion - cross entropy loss and use Adam optimizer"
      ]
    },
    {
      "cell_type": "code",
      "execution_count": 6,
      "metadata": {
        "id": "P1RFZ98OTqiY"
      },
      "outputs": [],
      "source": [
        "model = MNISTClassifier()  # Create an instance of the defined model class\n",
        "criterion = nn.CrossEntropyLoss()\n",
        "optimizer = torch.optim.Adam(model.parameters())"
      ]
    },
    {
      "cell_type": "markdown",
      "metadata": {
        "id": "F8HOvXCWTqiY"
      },
      "source": [
        "# Task 1\n",
        "\n",
        "**4 points **\n",
        "\n",
        "Train the ConvNet over 10 epochs and print the loss once per epoch for the 938th batch\n",
        ". There are 60000 training data samples with 64 in each batch, so there will be $\\left \\lceil 60000/64\\right \\rceil =$938 batches"
      ]
    },
    {
      "cell_type": "code",
      "execution_count": 7,
      "metadata": {
        "scrolled": true,
        "colab": {
          "base_uri": "https://localhost:8080/"
        },
        "id": "7IJ3RcIwTqiY",
        "outputId": "9104d68c-cd1b-4c37-f15c-f315845fcc98"
      },
      "outputs": [
        {
          "output_type": "stream",
          "name": "stdout",
          "text": [
            "[1] loss: 0.243\n",
            "[2] loss: 0.075\n",
            "[3] loss: 0.052\n",
            "[4] loss: 0.040\n",
            "[5] loss: 0.033\n",
            "[6] loss: 0.027\n",
            "[7] loss: 0.024\n",
            "[8] loss: 0.021\n",
            "[9] loss: 0.019\n",
            "[10] loss: 0.016\n"
          ]
        }
      ],
      "source": [
        "num_epochs = 10\n",
        "\n",
        "for epoch in range(num_epochs):\n",
        "    # Train loop\n",
        "    running_loss = 0.0\n",
        "    #Start your code\n",
        "\n",
        "    for i, data in enumerate(train_loader, 0):\n",
        "        inputs, labels = data\n",
        "        optimizer.zero_grad()\n",
        "        outputs = model(inputs)\n",
        "        loss = criterion(outputs, labels)\n",
        "        loss.backward()\n",
        "        optimizer.step()\n",
        "\n",
        "\n",
        "    #End your code\n",
        "        # Print statistics\n",
        "        running_loss += loss.item()\n",
        "\n",
        "\n",
        "        if (i==937):\n",
        "            print('[%d] loss: %.3f' %\n",
        "                  (epoch + 1, running_loss/938))\n",
        "            running_loss = 0.0\n",
        "\n"
      ]
    },
    {
      "cell_type": "markdown",
      "metadata": {
        "id": "IRaT8RYFTqiZ"
      },
      "source": [
        "## Expected Output\n",
        "\n",
        "[1] loss: 0.243<br>\n",
        "[2] loss: 0.075<br>\n",
        "[3] loss: 0.052<br>\n",
        "[4] loss: 0.041<br>\n",
        "[5] loss: 0.032<br>\n",
        "[6] loss: 0.027<br>\n",
        "[7] loss: 0.023<br>\n",
        "[8] loss: 0.022<br>\n",
        "[9] loss: 0.018<br>\n",
        "[10] loss: 0.016"
      ]
    },
    {
      "cell_type": "markdown",
      "metadata": {
        "id": "lYj5zvE6TqiZ"
      },
      "source": [
        "## Task 2: Calculate Loss for the Test data on the Trained Conv Net & Collect Outputs (final_output) for Use in Next Cell\n",
        "\n",
        "**3 Points ****\n",
        "\n",
        "Calculate Avg Loss for 10000 samples of test data"
      ]
    },
    {
      "cell_type": "code",
      "execution_count": 8,
      "metadata": {
        "colab": {
          "base_uri": "https://localhost:8080/"
        },
        "id": "Y3u76C5RTqiZ",
        "outputId": "e7c017eb-354c-4e8b-c9a8-481b8cadf556"
      },
      "outputs": [
        {
          "output_type": "stream",
          "name": "stdout",
          "text": [
            "[10000] loss: 0.044\n",
            "final_output shape torch.Size([10000, 10])\n"
          ]
        }
      ],
      "source": [
        "running_loss = 0.0\n",
        "concatenated_outputs = []\n",
        "\n",
        "\n",
        "for i, data in enumerate(test_loader, 0):\n",
        "    #Begin your code\n",
        "\n",
        "\n",
        "    inputs, labels = data\n",
        "    outputs = model(inputs)\n",
        "    loss = criterion(outputs, labels)\n",
        "    running_loss += loss.item()\n",
        "    concatenated_outputs.append(outputs)\n",
        "\n",
        "    #End your code\n",
        "\n",
        "print('[%d] loss: %.3f' % (i + 1, running_loss / 10000))\n",
        "final_output = torch.cat(concatenated_outputs, dim=0)\n",
        "print ('final_output shape', final_output.shape)\n",
        "\n"
      ]
    },
    {
      "cell_type": "markdown",
      "metadata": {
        "id": "nudiSAT4TqiZ"
      },
      "source": [
        "# Expected Output\n",
        "\n",
        "[10000] loss: 0.045<br>\n",
        "final_output shape torch.Size([10000, 10])"
      ]
    },
    {
      "cell_type": "markdown",
      "metadata": {
        "id": "dcBnhTaATqiZ"
      },
      "source": [
        "## Task 3 - Test the Trained Conv Net\n",
        "\n",
        "Test the Trained Conv Net on three random samples in the test data to see if the prediction is correct!\n",
        "\n",
        "**3 points***"
      ]
    },
    {
      "cell_type": "code",
      "execution_count": 9,
      "metadata": {
        "scrolled": true,
        "colab": {
          "base_uri": "https://localhost:8080/",
          "height": 1000
        },
        "id": "6E0vZCj3TqiZ",
        "outputId": "cae5125e-d35e-4b4e-bbc4-5053b8fa416e"
      },
      "outputs": [
        {
          "output_type": "stream",
          "name": "stdout",
          "text": [
            "random_indices [4185, 5874, 8684]\n",
            "Image at index 4185 - Predicted Label: 1\n"
          ]
        },
        {
          "output_type": "display_data",
          "data": {
            "text/plain": [
              "<Figure size 640x480 with 1 Axes>"
            ],
            "image/png": "[encoded data removed]"
          },
          "metadata": {}
        },
        {
          "output_type": "stream",
          "name": "stdout",
          "text": [
            "Image at index 5874 - Predicted Label: 5\n"
          ]
        },
        {
          "output_type": "display_data",
          "data": {
            "text/plain": [
              "<Figure size 640x480 with 1 Axes>"
            ],
            "image/png": "[encoded data removed]"
          },
          "metadata": {}
        },
        {
          "output_type": "stream",
          "name": "stdout",
          "text": [
            "Image at index 8684 - Predicted Label: 3\n"
          ]
        },
        {
          "output_type": "display_data",
          "data": {
            "text/plain": [
              "<Figure size 640x480 with 1 Axes>"
            ],
            "image/png": "[encoded data removed]"
          },
          "metadata": {}
        }
      ],
      "source": [
        "random_seed = 5 #Don't change the random seed\n",
        "random.seed(random_seed)\n",
        "# Randomly choose three images\n",
        "random_indices = random.sample(range(len(test_loader)), 3)\n",
        "print ('random_indices',random_indices)\n",
        "\n",
        "for i, data in enumerate(test_loader, 0):\n",
        "    inputs, labels = data\n",
        "    for j in random_indices:\n",
        "        if (i==j):\n",
        "\n",
        "            #Begin your code.\n",
        "            #Obtain prediction_prob (predicted class probabilities) for the image\n",
        "\n",
        "            prediction_prob = model(inputs)\n",
        "            image_data = inputs\n",
        "            label = labels\n",
        "            #End your code\n",
        "\n",
        "\n",
        "            prediction = torch.argmax(prediction_prob)\n",
        "            print(f\"Image at index {i} - Predicted Label: {prediction}\")\n",
        "            plt.imshow(image_data.squeeze(), cmap='gray')\n",
        "            plt.title(f\"Label: {label}\")\n",
        "            plt.show()"
      ]
    },
    {
      "cell_type": "markdown",
      "metadata": {
        "id": "SZjCq3WvTqiZ"
      },
      "source": [
        "## Expected Output\n",
        "\n",
        "<img src='A9image2.png'>\n",
        "<img src='A9image3.png'>\n",
        "<img src='A9image4.png'>\n",
        "<img src='A9image5.png'>"
      ]
    },
    {
      "cell_type": "code",
      "execution_count": null,
      "metadata": {
        "id": "bPhMv3abTqia"
      },
      "outputs": [],
      "source": []
    }
  ],
  "metadata": {
    "kernelspec": {
      "display_name": "base",
      "language": "python",
      "name": "python3"
    },
    "language_info": {
      "codemirror_mode": {
        "name": "ipython",
        "version": 3
      },
      "file_extension": ".py",
      "mimetype": "text/x-python",
      "name": "python",
      "nbconvert_exporter": "python",
      "pygments_lexer": "ipython3",
      "version": "3.12.7"
    },
    "colab": {
      "provenance": []
    }
  },
  "nbformat": 4,
  "nbformat_minor": 0
}