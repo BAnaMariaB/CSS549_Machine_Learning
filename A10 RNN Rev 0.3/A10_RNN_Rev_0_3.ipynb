{
  "cells": [
    {
      "cell_type": "markdown",
      "metadata": {
        "id": "3SGz7_FwWX8x"
      },
      "source": [
        "# CS549 Machine Learning - Irfan Khan\n",
        "# Assignment 10: Recurrent Neural Network\n",
        "\n",
        "\n",
        "**Total points: 10**\n",
        "\n",
        "In this assignment, we will implement basic RNN and an LSTM based RNN. For the final submission, do a kernel->Restart and Clear Output. Then run each cell sequentially from the beginning to the end.\n",
        "https://pytorch.org/tutorials/intermediate/char_rnn_classification_tutorial.html"
      ]
    },
    {
      "cell_type": "markdown",
      "metadata": {
        "id": "khtPK5DBWX82"
      },
      "source": [
        "# Import Needed Libraries"
      ]
    },
    {
      "cell_type": "code",
      "execution_count": 13,
      "metadata": {
        "id": "btV05k9TWX83"
      },
      "outputs": [],
      "source": [
        "from io import open\n",
        "import glob\n",
        "import os\n",
        "import unicodedata\n",
        "import random\n",
        "import string\n",
        "import torch\n",
        "import numpy as np\n",
        "import time\n",
        "import math"
      ]
    },
    {
      "cell_type": "markdown",
      "metadata": {
        "id": "HBdQ6cDZWX84"
      },
      "source": [
        "# Data\n",
        "\n",
        "The folder data has text files one for each language. 18 languages/folders.\n",
        "Convert from UniCode to ASCII. No additional code needed."
      ]
    },
    {
      "cell_type": "code",
      "execution_count": 14,
      "metadata": {
        "colab": {
          "base_uri": "https://localhost:8080/"
        },
        "id": "e7Q6oiWNWX84",
        "outputId": "61dee6eb-d1cf-4662-8f87-a73fe9d0a321"
      },
      "outputs": [
        {
          "output_type": "stream",
          "name": "stdout",
          "text": [
            "['eng-fra.txt', 'Arabic.txt', 'Japanese.txt', 'Czech.txt', 'Portuguese.txt', 'Russian.txt', 'Italian.txt', 'Dutch.txt', 'Vietnamese.txt', 'German.txt', 'Polish.txt', 'Chinese.txt', 'Irish.txt', 'Scottish.txt', 'Korean.txt', 'Spanish.txt', 'English.txt', 'French.txt', 'Greek.txt']\n",
            "n_letters 57\n",
            "Slusarski\n",
            "n_categories 19\n"
          ]
        }
      ],
      "source": [
        "#random.seed(0)\n",
        "def findFiles(path): return glob.glob(path)\n",
        "print(findFiles('*.txt'))\n",
        "all_letters = string.ascii_letters + \" .,;'\"\n",
        "n_letters = len(all_letters)\n",
        "print ('n_letters',n_letters)\n",
        "# Turn a Unicode string to plain ASCII, thanks to https://stackoverflow.com/a/518232/2809427\n",
        "def unicodeToAscii(s):\n",
        "    return ''.join(\n",
        "        c for c in unicodedata.normalize('NFD', s)\n",
        "        if unicodedata.category(c) != 'Mn'\n",
        "        and c in all_letters\n",
        "    )\n",
        "print(unicodeToAscii('Ślusàrski'))\n",
        "# Build the category_lines dictionary, a list of names per language\n",
        "category_lines = {}\n",
        "all_categories = []\n",
        "# Read a file and split into lines\n",
        "def readLines(filename):\n",
        "    lines = open(filename, encoding='utf-8').read().strip().split('\\n')\n",
        "    return [unicodeToAscii(line) for line in lines]\n",
        "for filename in findFiles('*.txt'):\n",
        "    category = os.path.splitext(os.path.basename(filename))[0]\n",
        "    all_categories.append(category)\n",
        "    lines = readLines(filename)\n",
        "    category_lines[category] = lines\n",
        "n_categories = len(all_categories)\n",
        "print ('n_categories', n_categories)\n",
        "#print ('category_lines', category_lines)"
      ]
    },
    {
      "cell_type": "markdown",
      "metadata": {
        "id": "LZwuWLRmWX84"
      },
      "source": [
        "# Test - print list of 5 names in a supported language (Arabic, Chinese, etc.)"
      ]
    },
    {
      "cell_type": "code",
      "execution_count": 15,
      "metadata": {
        "colab": {
          "base_uri": "https://localhost:8080/"
        },
        "id": "_iOKHSlrWX85",
        "outputId": "37fb6da1-3661-46a4-d14f-78c048670f1a"
      },
      "outputs": [
        {
          "output_type": "stream",
          "name": "stdout",
          "text": [
            "['Abana', 'Abano', 'Abarca', 'Abaroa', 'Abascal']\n"
          ]
        }
      ],
      "source": [
        "#Test Data Prep\n",
        "\n",
        "print(category_lines['Spanish'][:5])"
      ]
    },
    {
      "cell_type": "markdown",
      "metadata": {
        "id": "kJI5_9s3WX85"
      },
      "source": [
        "# Names -> Tensors\n",
        "\n",
        "To represent a single letter, we use a “one-hot vector” of size <1 x n_letters>. A one-hot vector is filled with 0s except for a 1 at index of the current letter, e.g. \"b\" = <0 1 0 0 0 ...>.\n",
        "\n",
        "To make a word we join a bunch of those into a 2D matrix <line_length x 1 x n_letters>.\n",
        "\n",
        "That extra 1 dimension is because PyTorch assumes everything is in batches - we’re just using a batch size of 1 here. No additional code needed.\n"
      ]
    },
    {
      "cell_type": "code",
      "execution_count": 16,
      "metadata": {
        "colab": {
          "base_uri": "https://localhost:8080/"
        },
        "id": "onf05rPTWX85",
        "outputId": "98b20199-1270-43d1-d182-23319a493a25"
      },
      "outputs": [
        {
          "output_type": "stream",
          "name": "stdout",
          "text": [
            "tensor([[0., 0., 0., 0., 0., 0., 0., 0., 0., 0., 0., 0., 0., 0., 0., 0., 0., 0.,\n",
            "         0., 0., 0., 0., 0., 0., 0., 0., 0., 0., 0., 0., 0., 0., 0., 0., 0., 1.,\n",
            "         0., 0., 0., 0., 0., 0., 0., 0., 0., 0., 0., 0., 0., 0., 0., 0., 0., 0.,\n",
            "         0., 0., 0.]])\n",
            "torch.Size([5, 1, 57])\n"
          ]
        }
      ],
      "source": [
        "#random.seed(0)\n",
        "# Find letter index from all_letters, e.g. \"a\" = 0\n",
        "def letterToIndex(letter):\n",
        "    return all_letters.find(letter)\n",
        "\n",
        "# Just for demonstration, turn a letter into a <1 x n_letters> Tensor\n",
        "def letterToTensor(letter):\n",
        "    tensor = torch.zeros(1, n_letters)\n",
        "    tensor[0][letterToIndex(letter)] = 1\n",
        "    return tensor\n",
        "\n",
        "# Turn a line into a <line_length x 1 x n_letters>,\n",
        "# or an array of one-hot letter vectors\n",
        "def lineToTensor(line):\n",
        "    tensor = torch.zeros(len(line), 1, n_letters)\n",
        "    for li, letter in enumerate(line):\n",
        "        tensor[li][0][letterToIndex(letter)] = 1\n",
        "    return tensor\n",
        "\n",
        "print(letterToTensor('J'))\n",
        "\n",
        "print(lineToTensor('Jones').size())"
      ]
    },
    {
      "cell_type": "markdown",
      "metadata": {
        "id": "-EexKF_EWX86"
      },
      "source": [
        "# Section 1 Basic RNN\n",
        "\n",
        "No code needed - provided as example - don't change"
      ]
    },
    {
      "cell_type": "markdown",
      "metadata": {
        "id": "sPxBhOaZWX86"
      },
      "source": [
        "# Defining the RNN\n",
        "This RNN module (mostly copied from the PyTorch for Torch users tutorial) is just 2 linear layers (1 hidden layer + 1 output layer) which operate on an input and hidden state with a tanh activation function, with a LogSoftmax layer after the output. Hidden Layer activation $a^{<t>}$ is a 128 element vector"
      ]
    },
    {
      "cell_type": "code",
      "execution_count": 17,
      "metadata": {
        "id": "8x2DconuWX86"
      },
      "outputs": [],
      "source": [
        "import torch.nn as nn\n",
        "\n",
        "class Basic_RNN(nn.Module):\n",
        "    def __init__(self, input_size, hidden_size, output_size):\n",
        "        super(Basic_RNN, self).__init__()\n",
        "\n",
        "        self.hidden_size = hidden_size\n",
        "\n",
        "        self.i2h = nn.Linear(input_size + hidden_size, hidden_size)\n",
        "        self.tanh=nn.Tanh()\n",
        "        self.h2o = nn.Linear(hidden_size, output_size)\n",
        "        self.softmax = nn.LogSoftmax(dim=1)\n",
        "\n",
        "    def forward(self, input, hidden):\n",
        "        combined = torch.cat((input, hidden), 1)\n",
        "        hidden = self.i2h(combined)\n",
        "        hidden=self.tanh(hidden)\n",
        "        output = self.h2o(hidden)\n",
        "        output = self.softmax(output)\n",
        "        return output, hidden\n",
        "\n",
        "    def initHidden(self):\n",
        "\n",
        "        return torch.zeros(1, self.hidden_size)\n",
        "\n",
        "n_hidden = 128\n",
        "basic_rnn = Basic_RNN(n_letters, n_hidden, n_categories)"
      ]
    },
    {
      "cell_type": "markdown",
      "metadata": {
        "id": "dmQWHTWlWX87"
      },
      "source": [
        "# Training"
      ]
    },
    {
      "cell_type": "markdown",
      "metadata": {
        "id": "p-PpyCD3WX87"
      },
      "source": [
        "# Prep for Training\n",
        "\n",
        "This helper function interprets the output of the network, which we know to be a likelihood of each category. We can use Tensor.topk to get the index of the greatest value:"
      ]
    },
    {
      "cell_type": "code",
      "execution_count": 18,
      "metadata": {
        "id": "kK7aNsHWWX87"
      },
      "outputs": [],
      "source": [
        "def categoryFromOutput(output):\n",
        "    top_n, top_i = output.topk(1)\n",
        "    category_i = top_i[0].item()\n",
        "    return all_categories[category_i], category_i"
      ]
    },
    {
      "cell_type": "markdown",
      "metadata": {
        "id": "Nqqbse8GWX87"
      },
      "source": [
        "# Quick Way to Get a Training Example\n"
      ]
    },
    {
      "cell_type": "code",
      "execution_count": 19,
      "metadata": {
        "colab": {
          "base_uri": "https://localhost:8080/"
        },
        "id": "KcJaCgtvWX87",
        "outputId": "7764e5ed-3595-49c7-89a1-6b50a05e3eba"
      },
      "outputs": [
        {
          "output_type": "stream",
          "name": "stdout",
          "text": [
            "category = Irish / line = Reynold\n",
            "category = Scottish / line = Thomson\n",
            "category = Vietnamese / line = Trang\n",
            "category = Spanish / line = Quinones\n",
            "category = German / line = Raskop\n",
            "category = Chinese / line = Pei\n",
            "category = English / line = Crocker\n",
            "category = German / line = Faerber\n",
            "category = Czech / line = Maly\n",
            "category = French / line = Desjardins\n"
          ]
        }
      ],
      "source": [
        "def randomChoice(l):\n",
        "    return l[random.randint(0, len(l) - 1)]\n",
        "\n",
        "def randomTrainingExample():\n",
        "    category = randomChoice(all_categories)\n",
        "    line = randomChoice(category_lines[category])\n",
        "    category_tensor = torch.tensor([all_categories.index(category)], dtype=torch.long)\n",
        "    line_tensor = lineToTensor(line)\n",
        "    #print (category_tensor.shape, line_tensor.shape)\n",
        "    return category, line, category_tensor, line_tensor\n",
        "\n",
        "random.seed(0)\n",
        "for i in range(10):\n",
        "    category, line, category_tensor, line_tensor = randomTrainingExample()\n",
        "    print('category =', category, '/ line =', line)"
      ]
    },
    {
      "cell_type": "markdown",
      "metadata": {
        "id": "zUCtbgQXWX87"
      },
      "source": [
        "# Train the Network\n",
        "\n"
      ]
    },
    {
      "cell_type": "markdown",
      "metadata": {
        "id": "M69nMXYrWX87"
      },
      "source": [
        "# Training Function\n",
        "\n",
        "\n",
        "Create input and target tensors. Create a zeroed initial hidden state. Read each letter in and keep hidden state for next letter. Compare final output to target. Back-propagate. Return the output and loss. For the loss function nn.NLLLoss is appropriate, since the last layer of the RNN is nn.LogSoftmax. Use SGD optimizer."
      ]
    },
    {
      "cell_type": "code",
      "execution_count": 20,
      "metadata": {
        "id": "n-3IQoHuWX88"
      },
      "outputs": [],
      "source": [
        "learning_rate = 0.005 # If you set this too high, it might not converge. If too low,\n",
        "#it might not learn. 0.005 from trial and error\n",
        "criterion = nn.NLLLoss()\n",
        "optimizer = torch.optim.SGD(basic_rnn.parameters(), lr = learning_rate)\n",
        "def train_basic_RNN(category_tensor, line_tensor):\n",
        "    hidden = basic_rnn.initHidden()\n",
        "    #basic_rnn.zero_grad()\n",
        "    optimizer.zero_grad()\n",
        "    for i in range(line_tensor.size()[0]):\n",
        "        output, hidden = basic_rnn(line_tensor[i], hidden)\n",
        "\n",
        "    loss = criterion(output, category_tensor)\n",
        "    loss.backward()\n",
        "    optimizer.step()\n",
        "\n",
        "    # Add parameters' gradients to their values, multiplied by learning rate\n",
        "    #for p in basic_rnn.parameters():\n",
        "        #p.data.add_(p.grad.data, alpha=-learning_rate)\n",
        "\n",
        "    return output, loss.item()"
      ]
    },
    {
      "cell_type": "markdown",
      "metadata": {
        "id": "Rf3vAC0MWX89"
      },
      "source": [
        "# Training Loop\n",
        "\n",
        "Run the training function with a bunch of examples. Since the train function returns both the output and loss we can print its guesses and also keep track of loss for plotting. Since there are 1000s of examples we print only every print_every examples, and take an average of the loss.\n",
        "\n"
      ]
    },
    {
      "cell_type": "code",
      "execution_count": 21,
      "metadata": {
        "scrolled": true,
        "colab": {
          "base_uri": "https://localhost:8080/"
        },
        "id": "wBgWH2v-WX89",
        "outputId": "b647439f-fb7e-43b2-b898-2e84aa1ad3aa"
      },
      "outputs": [
        {
          "output_type": "stream",
          "name": "stdout",
          "text": [
            "5000 5% (0m 8s) 2.8415 Snelker / eng-fra ✗ (Czech)\n",
            "10000 10% (0m 18s) 1.4030 Totolos / Greek ✓\n",
            "15000 15% (0m 27s) 2.0061 Mojaikin / Arabic ✗ (Russian)\n",
            "20000 20% (0m 35s) 2.0853 Schneijder / German ✗ (Dutch)\n",
            "25000 25% (0m 44s) 1.5099 Acker / German ✓\n",
            "30000 30% (0m 52s) 3.8996 Jvirblis / Greek ✗ (Russian)\n",
            "35000 35% (1m 0s) 3.8563 Schenck / Czech ✗ (German)\n",
            "40000 40% (1m 9s) 0.8278 Snyders / Dutch ✓\n",
            "45000 45% (1m 17s) 0.0733 Poniros / Greek ✓\n",
            "50000 50% (1m 25s) 1.1958 What are the origins of the OlympicsQuelles sont les origines des Jeux Olympiques / eng-fra ✓\n",
            "55000 55% (1m 33s) 0.7428 Sortras / Greek ✓\n",
            "60000 60% (1m 42s) 1.9375 Tolkien / French ✗ (German)\n",
            "65000 65% (1m 50s) 6.8574 Loi / Korean ✗ (Russian)\n",
            "70000 70% (1m 58s) 1.3888 Phi / Chinese ✗ (Vietnamese)\n",
            "75000 75% (2m 7s) 2.2738 Brannon / English ✗ (Irish)\n",
            "80000 80% (2m 15s) 0.1405 Hiratasuka / Japanese ✓\n",
            "85000 85% (2m 22s) 3.1111 Duarte / French ✗ (Portuguese)\n",
            "90000 90% (2m 31s) 1.6390 Nikolaou / Greek ✓\n",
            "95000 95% (2m 39s) 1.2354 Tomanek / Czech ✓\n",
            "100000 100% (2m 46s) 1.3641 Kate / Japanese ✓\n"
          ]
        }
      ],
      "source": [
        "\n",
        "# Set random seed for Python\n",
        "random_seed = 0\n",
        "random.seed(random_seed)\n",
        "# Set random seed for NumPy\n",
        "np.random.seed(random_seed)\n",
        "# Set random seed for PyTorch\n",
        "torch.manual_seed(random_seed)\n",
        "torch.backends.cudnn.deterministic = True\n",
        "torch.backends.cudnn.benchmark = False\n",
        "n_iters = 100000\n",
        "print_every = 5000\n",
        "plot_every = 1000\n",
        "# Keep track of losses for plotting\n",
        "current_loss = 0\n",
        "all_losses = []\n",
        "def timeSince(since):\n",
        "    now = time.time()\n",
        "    s = now - since\n",
        "    m = math.floor(s / 60)\n",
        "    s -= m * 60\n",
        "    return '%dm %ds' % (m, s)\n",
        "start = time.time()\n",
        "\n",
        "for iter in range(1, n_iters + 1):\n",
        "    category, line, category_tensor, line_tensor = randomTrainingExample()\n",
        "    output, loss = train_basic_RNN(category_tensor, line_tensor)\n",
        "    current_loss += loss\n",
        "    # Print ``iter`` number, loss, name and guess\n",
        "    if iter % print_every == 0:\n",
        "        guess, guess_i = categoryFromOutput(output)\n",
        "        correct = '✓' if guess == category else '✗ (%s)' % category\n",
        "        print('%d %d%% (%s) %.4f %s / %s %s' % (iter, iter / n_iters * 100, timeSince(start),\n",
        "                                                loss, line, guess, correct))\n",
        "    # Add current loss avg to list of losses\n",
        "    if iter % plot_every == 0:\n",
        "        all_losses.append(current_loss / plot_every)\n",
        "        current_loss = 0"
      ]
    },
    {
      "cell_type": "markdown",
      "metadata": {
        "id": "3Uu-QTTsWX89"
      },
      "source": [
        "# Expected Results\n",
        "\n",
        "You will see snapshot results and execution time after every 5000 epochs."
      ]
    },
    {
      "cell_type": "markdown",
      "metadata": {
        "id": "jjUpchBPWX89"
      },
      "source": [
        "# Plot the Results\n"
      ]
    },
    {
      "cell_type": "code",
      "execution_count": 22,
      "metadata": {
        "colab": {
          "base_uri": "https://localhost:8080/",
          "height": 451
        },
        "id": "gZe6FueXWX89",
        "outputId": "1bbf68f1-6e58-4a1d-fbf1-4616192e1417"
      },
      "outputs": [
        {
          "output_type": "execute_result",
          "data": {
            "text/plain": [
              "[<matplotlib.lines.Line2D at 0x7d77b7a367d0>]"
            ]
          },
          "metadata": {},
          "execution_count": 22
        },
        {
          "output_type": "display_data",
          "data": {
            "text/plain": [
              "<Figure size 640x480 with 1 Axes>"
            ],
            "image/png": "[encoded data removed]"
          },
          "metadata": {}
        }
      ],
      "source": [
        "import matplotlib.pyplot as plt\n",
        "import matplotlib.ticker as ticker\n",
        "\n",
        "plt.figure()\n",
        "plt.plot(all_losses)"
      ]
    },
    {
      "cell_type": "markdown",
      "metadata": {
        "id": "d6NGBH5wWX89"
      },
      "source": [
        "# Expected Result\n",
        "\n",
        "The plot will start around 2.8, decrease and towards the end, the avg loss is about 1. Note that you have to run the cells sequentially from the beginning to get consistent results."
      ]
    },
    {
      "cell_type": "markdown",
      "metadata": {
        "id": "BWZNPUy5WX89"
      },
      "source": [
        "# Evaluate Results\n",
        "\n",
        "To see how well the network performs on different categories, we will create a confusion matrix, indicating for every actual language (rows) which language the network guesses (columns). To calculate the confusion matrix a bunch of samples are run through the network with evaluate(), which is the same as train() minus the backprop."
      ]
    },
    {
      "cell_type": "code",
      "execution_count": 23,
      "metadata": {
        "scrolled": true,
        "colab": {
          "base_uri": "https://localhost:8080/",
          "height": 597
        },
        "id": "AttI0ZWZWX8-",
        "outputId": "9d156703-ccc0-4d5f-e95f-836e64c2b374"
      },
      "outputs": [
        {
          "output_type": "stream",
          "name": "stderr",
          "text": [
            "<ipython-input-23-f7712bb0bfe1>:36: UserWarning: set_ticklabels() should only be used with a fixed number of ticks, i.e. after set_ticks() or using a FixedLocator.\n",
            "  ax.set_xticklabels([''] + all_categories, rotation=90)\n",
            "<ipython-input-23-f7712bb0bfe1>:37: UserWarning: set_ticklabels() should only be used with a fixed number of ticks, i.e. after set_ticks() or using a FixedLocator.\n",
            "  ax.set_yticklabels([''] + all_categories)\n"
          ]
        },
        {
          "output_type": "display_data",
          "data": {
            "text/plain": [
              "<Figure size 640x480 with 2 Axes>"
            ],
            "image/png": "[encoded data removed]"
          },
          "metadata": {}
        }
      ],
      "source": [
        "\n",
        "# Set random seed for Python\n",
        "random_seed = 42\n",
        "random.seed(random_seed)\n",
        "# Set random seed for NumPy\n",
        "np.random.seed(random_seed)\n",
        "# Set random seed for PyTorch\n",
        "torch.manual_seed(random_seed)\n",
        "torch.backends.cudnn.deterministic = True\n",
        "torch.backends.cudnn.benchmark = False\n",
        "# Keep track of correct guesses in a confusion matrix\n",
        "confusion = torch.zeros(n_categories, n_categories)\n",
        "n_confusion = 10000\n",
        "# Just return an output given a line\n",
        "def evaluate(line_tensor):\n",
        "    hidden = basic_rnn.initHidden()\n",
        "    for i in range(line_tensor.size()[0]):\n",
        "        with torch.no_grad():\n",
        "            output, hidden = basic_rnn(line_tensor[i], hidden)\n",
        "    return output\n",
        "# Go through a bunch of examples and record which are correctly guessed\n",
        "for i in range(n_confusion):\n",
        "    category, line, category_tensor, line_tensor = randomTrainingExample()\n",
        "    output = evaluate(line_tensor)\n",
        "    guess, guess_i = categoryFromOutput(output)\n",
        "    category_i = all_categories.index(category)\n",
        "    confusion[category_i][guess_i] += 1\n",
        "# Normalize by dividing every row by its sum\n",
        "for i in range(n_categories):\n",
        "    confusion[i] = confusion[i] / confusion[i].sum()\n",
        "# Set up plot\n",
        "fig = plt.figure()\n",
        "ax = fig.add_subplot(111)\n",
        "cax = ax.matshow(confusion.numpy())\n",
        "fig.colorbar(cax)\n",
        "# Set up axes\n",
        "ax.set_xticklabels([''] + all_categories, rotation=90)\n",
        "ax.set_yticklabels([''] + all_categories)\n",
        "# Force label at every tick\n",
        "ax.xaxis.set_major_locator(ticker.MultipleLocator(1))\n",
        "ax.yaxis.set_major_locator(ticker.MultipleLocator(1))\n",
        "# sphinx_gallery_thumbnail_number = 2\n",
        "plt.show()"
      ]
    },
    {
      "cell_type": "markdown",
      "metadata": {
        "id": "3JNzFP2nWX8-"
      },
      "source": [
        "## Expected Results\n",
        "\n",
        "You may seem some warnings about \"FixedFormatter should only be used together with FixedLocator\". Ignore these. Study the confusion matrix. You can pick out bright spots off the main axis that show which languages it guesses incorrectly, e.g. Korean for Chinese, and Portugese and Spanish for Italian. It seems to do very well with Arabic, and very poorly with English (perhaps because of overlap with other languages)."
      ]
    },
    {
      "cell_type": "markdown",
      "metadata": {
        "id": "A74yHl5ZWX8-"
      },
      "source": [
        "# Running on User Input\n",
        "\n",
        "Let us see what the predictions are for 4 names."
      ]
    },
    {
      "cell_type": "code",
      "execution_count": 24,
      "metadata": {
        "colab": {
          "base_uri": "https://localhost:8080/"
        },
        "id": "Qwd_HPFdWX8-",
        "outputId": "9337fbc9-31b0-45e8-a62e-da132e906349"
      },
      "outputs": [
        {
          "output_type": "stream",
          "name": "stdout",
          "text": [
            "\n",
            "> Dostoevsky\n",
            "(-0.89) Russian\n",
            "(-2.09) Irish\n",
            "(-2.36) Czech\n",
            "\n",
            "> Doveski\n",
            "(-0.66) Polish\n",
            "(-1.24) Italian\n",
            "(-2.72) Japanese\n",
            "\n",
            "> Jackson\n",
            "(-1.53) Scottish\n",
            "(-1.97) English\n",
            "(-2.05) Greek\n",
            "\n",
            "> Satoshi\n",
            "(-0.54) Italian\n",
            "(-1.72) Japanese\n",
            "(-1.89) Polish\n",
            "\n",
            "> Giorgos\n",
            "(-0.12) Greek\n",
            "(-3.37) Portuguese\n",
            "(-4.20) Scottish\n",
            "\n",
            "> Apostolopoulos\n",
            "(-0.06) Greek\n",
            "(-4.79) Polish\n",
            "(-4.80) Czech\n",
            "\n",
            "> Brosnan\n",
            "(-1.48) Irish\n",
            "(-1.51) Russian\n",
            "(-1.59) French\n",
            "\n",
            "> Connery\n",
            "(-1.25) Irish\n",
            "(-1.53) French\n",
            "(-1.67) English\n"
          ]
        }
      ],
      "source": [
        "def predict(input_line, n_predictions=3):\n",
        "    print('\\n> %s' % input_line)\n",
        "    #with torch.no_grad():\n",
        "    output = evaluate(lineToTensor(input_line))\n",
        "\n",
        "        # Get top N categories\n",
        "    topv, topi = output.topk(n_predictions, 1, True)\n",
        "    predictions = []\n",
        "\n",
        "    for i in range(n_predictions):\n",
        "        value = topv[0][i].item()\n",
        "        category_index = topi[0][i].item()\n",
        "        print('(%.2f) %s' % (value, all_categories[category_index]))\n",
        "        predictions.append([value, all_categories[category_index]])\n",
        "\n",
        "predict ('Dostoevsky')\n",
        "predict('Doveski')\n",
        "predict('Jackson')\n",
        "predict('Satoshi')\n",
        "predict ('Giorgos')\n",
        "predict ('Apostolopoulos')\n",
        "predict ('Brosnan')\n",
        "predict ('Connery')"
      ]
    },
    {
      "cell_type": "markdown",
      "metadata": {
        "id": "G-6gnUO5WX8-"
      },
      "source": [
        "# Expected Results\n",
        "\n",
        "You will see the top three predictions for each name. Number within parenthesis is the log (prob)."
      ]
    },
    {
      "cell_type": "markdown",
      "metadata": {
        "id": "iY0bG0WqWX8-"
      },
      "source": [
        "# Section 2 Implement and Train an LSTM RNN\n",
        "\n",
        "**10 points**"
      ]
    },
    {
      "cell_type": "markdown",
      "metadata": {
        "id": "rbCIIZwKWX8_"
      },
      "source": [
        "# Define the LSTM RNN\n",
        "\n",
        "***5 points****\n",
        "\n",
        "Similar to the basic RNN. Here you use LSTM hidden layer instead of the basic RNN linear hidden layer. Hint: LSTM hidden states are two ($c^{<t>}$: long-term memory, $a^{<t>}$: short-term memory) compared to one in basic RNN. The output at each step is generated from $a^{<t>}$ from the last layer. Lookup the syntax for using nn.LSTM."
      ]
    },
    {
      "cell_type": "code",
      "execution_count": 25,
      "metadata": {
        "id": "NtsOXwmsWX8_"
      },
      "outputs": [],
      "source": [
        "import torch.nn as nn\n",
        "\n",
        "class LSTM_RNN(nn.Module):\n",
        "    def __init__(self, input_size, hidden_size, output_size):\n",
        "        super(LSTM_RNN, self).__init__()\n",
        "\n",
        "        #Start your code\n",
        "        # Replace nn.Linear and nn.Tanh with nn.LSTM\n",
        "        self.hidden_size = hidden_size\n",
        "        self.lstm = nn.LSTMCell(input_size, hidden_size)\n",
        "        self.h2o = nn.Linear(hidden_size, output_size)\n",
        "        self.softmax = nn.LogSoftmax(dim=1)\n",
        "\n",
        "\n",
        "        #End your code\n",
        "\n",
        "    def forward(self, input,atminus1, htminus1):\n",
        "\n",
        "        #Start your code\n",
        "        # Forward propagate\n",
        "\n",
        "        at, ht = self.lstm(input, (atminus1, htminus1))\n",
        "        output = self.h2o(at)\n",
        "        output = self.softmax(output)\n",
        "\n",
        "        #End your code\n",
        "        return output, at, ht\n",
        "\n",
        "    def initHidden(self):\n",
        "        return (torch.zeros(1, self.hidden_size), torch.zeros(1, self.hidden_size))\n",
        "\n",
        "n_hidden = 128\n",
        "lstm_rnn = LSTM_RNN(n_letters, n_hidden, n_categories)"
      ]
    },
    {
      "cell_type": "markdown",
      "metadata": {
        "id": "RhvJn3TvWX8_"
      },
      "source": [
        "# Training Function\n",
        "\n",
        "****2 points****\n",
        "\n",
        "\n",
        "Create input and target tensors. Create a zeroed initial hidden state. Read each letter in and keep hidden state for next letter. Compare final output to target. Back-propagate. Return the output and loss. For the loss function nn.NLLLoss is appropriate, since the last layer of the RNN is nn.LogSoftmax. Use SGD optimizer. Code needed will be similar to the regular RNN case"
      ]
    },
    {
      "cell_type": "code",
      "execution_count": 26,
      "metadata": {
        "id": "PWN4KeM6WX8_"
      },
      "outputs": [],
      "source": [
        "learning_rate = 0.05 # If you set this too high, it might not converge. If too low, it might not learn. 0.05 from trial and error.\n",
        "criterion = nn.NLLLoss()\n",
        "optimizer = torch.optim.SGD(lstm_rnn.parameters(), lr = learning_rate)\n",
        "def train_LSTM_RNN(category_tensor, line_tensor):\n",
        "    atminus1, htminus1 = lstm_rnn.initHidden()\n",
        "#start your code\n",
        "\n",
        "    optimizer.zero_grad()\n",
        "    for i in range(line_tensor.size()[0]):\n",
        "        output, atminus1, htminus1 = lstm_rnn(line_tensor[i], atminus1, htminus1)\n",
        "    loss = criterion(output, category_tensor)\n",
        "    loss.backward()\n",
        "    optimizer.step()\n",
        "\n",
        "#End your code\n",
        "\n",
        "    return output, loss.item()"
      ]
    },
    {
      "cell_type": "markdown",
      "metadata": {
        "id": "0yzcGiSAWX8_"
      },
      "source": [
        "# Training Loop\n",
        "\n",
        "***3 points***\n",
        "\n",
        "Run the training function with a bunch of examples. Since the train function returns both the output and loss we can print its guesses and also keep track of loss for plotting. Since there are 1000s of examples we print only every print_every examples, and take an average of the loss. Code needed will be similar to the regular RNN case"
      ]
    },
    {
      "cell_type": "code",
      "execution_count": 27,
      "metadata": {
        "scrolled": true,
        "colab": {
          "base_uri": "https://localhost:8080/"
        },
        "id": "yMjSSrtZWX8_",
        "outputId": "1221287e-06f9-426b-caca-85a2061985ab"
      },
      "outputs": [
        {
          "output_type": "stream",
          "name": "stdout",
          "text": [
            "5000 5% (0m 17s) 2.1834 Snelker / Russian ✗ (Czech)\n",
            "10000 10% (0m 34s) 3.2770 Totolos / Scottish ✗ (Greek)\n",
            "15000 15% (0m 51s) 0.8787 Mojaikin / Russian ✓\n",
            "20000 20% (1m 8s) 1.4818 Schneijder / Dutch ✓\n",
            "25000 25% (1m 24s) 1.1190 Acker / German ✓\n",
            "30000 30% (1m 41s) 4.8703 Jvirblis / Greek ✗ (Russian)\n",
            "35000 35% (1m 58s) 3.0335 Schenck / Dutch ✗ (German)\n",
            "40000 40% (2m 14s) 0.3240 Snyders / Dutch ✓\n",
            "45000 45% (2m 31s) 0.0153 Poniros / Greek ✓\n",
            "50000 50% (2m 49s) 0.0001 What are the origins of the OlympicsQuelles sont les origines des Jeux Olympiques / eng-fra ✓\n",
            "55000 55% (3m 5s) 0.0180 Sortras / Greek ✓\n",
            "60000 60% (3m 23s) 1.4611 Tolkien / German ✓\n",
            "65000 65% (3m 39s) 7.8990 Loi / Chinese ✗ (Russian)\n",
            "70000 70% (3m 57s) 0.1323 Phi / Vietnamese ✓\n",
            "75000 75% (4m 14s) 1.4656 Brannon / English ✗ (Irish)\n",
            "80000 80% (4m 31s) 0.0006 Hiratasuka / Japanese ✓\n",
            "85000 85% (4m 48s) 0.0679 Duarte / Portuguese ✓\n",
            "90000 90% (5m 5s) 0.0151 Nikolaou / Greek ✓\n",
            "95000 95% (5m 22s) 0.4362 Tomanek / Czech ✓\n",
            "100000 100% (5m 39s) 1.1197 Kate / Dutch ✗ (Japanese)\n"
          ]
        }
      ],
      "source": [
        "\n",
        "# Set random seed for Python\n",
        "random_seed = 0\n",
        "random.seed(random_seed)\n",
        "# Set random seed for NumPy\n",
        "np.random.seed(random_seed)\n",
        "# Set random seed for PyTorch\n",
        "torch.manual_seed(random_seed)\n",
        "torch.backends.cudnn.deterministic = True\n",
        "torch.backends.cudnn.benchmark = False\n",
        "\n",
        "n_iters = 100000\n",
        "print_every = 5000\n",
        "\n",
        "plot_every = 1000\n",
        "# Keep track of losses for plotting\n",
        "current_loss = 0\n",
        "all_losses = []\n",
        "\n",
        "def timeSince(since):\n",
        "    now = time.time()\n",
        "    s = now - since\n",
        "    m = math.floor(s / 60)\n",
        "    s -= m * 60\n",
        "    return '%dm %ds' % (m, s)\n",
        "\n",
        "start = time.time()\n",
        "\n",
        "for iter in range(1, n_iters + 1):\n",
        "    #Start your code\n",
        "    #Get training data samples from randomTrainingExample, then use train_LSTM_RNN to\n",
        "    #obtain output and loss, accumulate loss in current_loss\n",
        "\n",
        "\n",
        "    category, line, category_tensor, line_tensor = randomTrainingExample()\n",
        "    output, loss = train_LSTM_RNN(category_tensor, line_tensor)\n",
        "    current_loss += loss\n",
        "\n",
        "    #End your code\n",
        "\n",
        "    # Print ``iter`` number, loss, name and guess\n",
        "    if iter % print_every == 0:\n",
        "        guess, guess_i = categoryFromOutput(output)\n",
        "        correct = '✓' if guess == category else '✗ (%s)' % category\n",
        "        print('%d %d%% (%s) %.4f %s / %s %s' % (iter, iter / n_iters * 100, timeSince(start),\n",
        "                                                loss, line, guess, correct))\n",
        "\n",
        "    # Add current loss avg to list of losses\n",
        "    if iter % plot_every == 0:\n",
        "        all_losses.append(current_loss / plot_every)\n",
        "        current_loss = 0"
      ]
    },
    {
      "cell_type": "markdown",
      "metadata": {
        "id": "ibOnCgLEWX9A"
      },
      "source": [
        "# Expected Result\n",
        "\n",
        "You will see snapshot results and execution time after every 5000 epochs. Slower execution compared to Basic RNN.\n",
        "\n"
      ]
    },
    {
      "cell_type": "markdown",
      "metadata": {
        "id": "3HQ4Bml3WX9A"
      },
      "source": [
        "# Plot the Results"
      ]
    },
    {
      "cell_type": "code",
      "execution_count": 28,
      "metadata": {
        "colab": {
          "base_uri": "https://localhost:8080/",
          "height": 448
        },
        "id": "RR_d1uNIWX9A",
        "outputId": "d8df65ea-6306-40bc-e1f1-6506aea4d726"
      },
      "outputs": [
        {
          "output_type": "execute_result",
          "data": {
            "text/plain": [
              "[<matplotlib.lines.Line2D at 0x7d77aef70ad0>]"
            ]
          },
          "metadata": {},
          "execution_count": 28
        },
        {
          "output_type": "display_data",
          "data": {
            "text/plain": [
              "<Figure size 640x480 with 1 Axes>"
            ],
            "image/png": "[encoded data removed]"
          },
          "metadata": {}
        }
      ],
      "source": [
        "import matplotlib.pyplot as plt\n",
        "import matplotlib.ticker as ticker\n",
        "\n",
        "plt.figure()\n",
        "plt.plot(all_losses)"
      ]
    },
    {
      "cell_type": "markdown",
      "metadata": {
        "id": "EqIF4pLpWX9A"
      },
      "source": [
        "# Expected Result\n",
        "\n",
        "Better performance than basic RNN. The plot will start around 2.8, decrease and towards the end, the avg loss is about 0.5. Note that you have to run the cells sequentially from the beginning to get consistent results."
      ]
    },
    {
      "cell_type": "markdown",
      "metadata": {
        "id": "w4bz7rJDWX9A"
      },
      "source": [
        "# Evaluate Results\n",
        "To see how well the network performs on different categories, we will create a confusion matrix, indicating for every actual language (rows) which language the network guesses (columns). To calculate the confusion matrix a bunch of samples are run through the network with evaluate(), which is the same as train() minus the backprop."
      ]
    },
    {
      "cell_type": "code",
      "execution_count": 29,
      "metadata": {
        "colab": {
          "base_uri": "https://localhost:8080/",
          "height": 597
        },
        "id": "oSUp1sbaWX9B",
        "outputId": "1161e6f5-fdde-4454-c0e6-b49797feb326"
      },
      "outputs": [
        {
          "output_type": "stream",
          "name": "stderr",
          "text": [
            "<ipython-input-29-20ee6233bbdf>:43: UserWarning: set_ticklabels() should only be used with a fixed number of ticks, i.e. after set_ticks() or using a FixedLocator.\n",
            "  ax.set_xticklabels([''] + all_categories, rotation=90)\n",
            "<ipython-input-29-20ee6233bbdf>:44: UserWarning: set_ticklabels() should only be used with a fixed number of ticks, i.e. after set_ticks() or using a FixedLocator.\n",
            "  ax.set_yticklabels([''] + all_categories)\n"
          ]
        },
        {
          "output_type": "display_data",
          "data": {
            "text/plain": [
              "<Figure size 640x480 with 2 Axes>"
            ],
            "image/png": "[encoded data removed]"
          },
          "metadata": {}
        }
      ],
      "source": [
        "\n",
        "# Set random seed for Python\n",
        "random_seed = 42\n",
        "random.seed(random_seed)\n",
        "# Set random seed for NumPy\n",
        "np.random.seed(random_seed)\n",
        "# Set random seed for PyTorch\n",
        "torch.manual_seed(random_seed)\n",
        "torch.backends.cudnn.deterministic = True\n",
        "torch.backends.cudnn.benchmark = False\n",
        "\n",
        "# Keep track of correct guesses in a confusion matrix\n",
        "confusion = torch.zeros(n_categories, n_categories)\n",
        "n_confusion = 10000\n",
        "# Just return an output given a line\n",
        "def evaluate_lstm(line_tensor):\n",
        "    atminus1, htminus1 = lstm_rnn.initHidden()\n",
        "    for i in range(line_tensor.size()[0]):\n",
        "        with torch.no_grad():\n",
        "            output_lstm, at, ht = lstm_rnn(line_tensor[i], atminus1, htminus1)\n",
        "            atminus1 = at\n",
        "            htminus1 = ht\n",
        "    return output_lstm\n",
        "\n",
        "# Go through a bunch of examples and record which are correctly guessed\n",
        "for i in range(n_confusion):\n",
        "    category, line, category_tensor, line_tensor = randomTrainingExample()\n",
        "    output_lstm = evaluate_lstm(line_tensor)\n",
        "    guess, guess_i = categoryFromOutput(output_lstm)\n",
        "    category_i = all_categories.index(category)\n",
        "    confusion[category_i][guess_i] += 1\n",
        "\n",
        "# Normalize by dividing every row by its sum\n",
        "for i in range(n_categories):\n",
        "    confusion[i] = confusion[i] / confusion[i].sum()\n",
        "\n",
        "# Set up plot\n",
        "fig = plt.figure()\n",
        "ax = fig.add_subplot(111)\n",
        "cax = ax.matshow(confusion.numpy())\n",
        "fig.colorbar(cax)\n",
        "\n",
        "# Set up axes\n",
        "ax.set_xticklabels([''] + all_categories, rotation=90)\n",
        "ax.set_yticklabels([''] + all_categories)\n",
        "\n",
        "# Force label at every tick\n",
        "ax.xaxis.set_major_locator(ticker.MultipleLocator(1))\n",
        "ax.yaxis.set_major_locator(ticker.MultipleLocator(1))\n",
        "\n",
        "# sphinx_gallery_thumbnail_number = 2\n",
        "plt.show()"
      ]
    },
    {
      "cell_type": "markdown",
      "metadata": {
        "id": "3JGDSFroWX9B"
      },
      "source": [
        "# Expected Results\n",
        "\n",
        "You may see some warnings about \"FixedFormatter should only be used together with FixedLocator\". Ignore these. Study the confusion matrix. It is similar to that for the basic RNN. You can pick out bright spots off the main axis that show which languages it guesses incorrectly, e.g. Chinese for Korean, and Spanish for Italian. It seems to do very well with Greek, and very poorly with English (perhaps because of overlap with other languages)."
      ]
    },
    {
      "cell_type": "markdown",
      "metadata": {
        "id": "lxnLK2f2WX9B"
      },
      "source": [
        "# Running on User Input\n",
        "\n",
        "Let us predict the language for 4 names as in the regular RNN section. Could be different predictions than in the regular RNN case."
      ]
    },
    {
      "cell_type": "code",
      "execution_count": 30,
      "metadata": {
        "colab": {
          "base_uri": "https://localhost:8080/"
        },
        "id": "tzjFSzTHWX9B",
        "outputId": "cc9e851d-0ce7-4cde-8cea-ba91322fd983"
      },
      "outputs": [
        {
          "output_type": "stream",
          "name": "stdout",
          "text": [
            "\n",
            "> Dostoevsky\n",
            "(-0.05) Russian\n",
            "(-2.99) Czech\n",
            "(-7.98) English\n",
            "\n",
            "> Doveski\n",
            "(-0.76) Polish\n",
            "(-0.97) Czech\n",
            "(-2.00) Russian\n",
            "\n",
            "> Jackson\n",
            "(-0.16) Scottish\n",
            "(-1.94) English\n",
            "(-7.44) Czech\n",
            "\n",
            "> Satoshi\n",
            "(-0.24) Japanese\n",
            "(-1.62) Arabic\n",
            "(-4.59) Italian\n",
            "\n",
            "> Giorgos\n",
            "(-1.19) Arabic\n",
            "(-1.23) Greek\n",
            "(-1.98) English\n",
            "\n",
            "> Apostolopoulos\n",
            "(-0.00) Greek\n",
            "(-9.34) eng-fra\n",
            "(-10.51) French\n",
            "\n",
            "> Brosnan\n",
            "(-0.89) Czech\n",
            "(-1.64) Russian\n",
            "(-1.72) English\n",
            "\n",
            "> Connery\n",
            "(-0.52) French\n",
            "(-1.53) English\n",
            "(-1.95) Irish\n"
          ]
        }
      ],
      "source": [
        "def predict(input_line, n_predictions=3):\n",
        "    print('\\n> %s' % input_line)\n",
        "    #with torch.no_grad():\n",
        "    output_lstm = evaluate_lstm(lineToTensor(input_line))\n",
        "\n",
        "        # Get top N categories\n",
        "    topv, topi = output_lstm.topk(n_predictions, 1, True)\n",
        "    predictions = []\n",
        "\n",
        "    for i in range(n_predictions):\n",
        "        value = topv[0][i].item()\n",
        "        category_index = topi[0][i].item()\n",
        "        print('(%.2f) %s' % (value, all_categories[category_index]))\n",
        "        predictions.append([value, all_categories[category_index]])\n",
        "\n",
        "predict ('Dostoevsky')\n",
        "predict('Doveski')\n",
        "predict('Jackson')\n",
        "predict('Satoshi')\n",
        "predict ('Giorgos')\n",
        "predict ('Apostolopoulos')\n",
        "predict ('Brosnan')\n",
        "predict ('Connery')"
      ]
    },
    {
      "cell_type": "markdown",
      "metadata": {
        "id": "FvVLDND1WX9B"
      },
      "source": [
        "# Expected Results\n",
        "\n",
        "You will see the top three predictions for each name. Number within parenthesis is the log (prob)."
      ]
    },
    {
      "cell_type": "markdown",
      "metadata": {
        "id": "wvF_2gL8WX9B"
      },
      "source": [
        "FYI:  it is generally common to use a smaller learning rate for regular RNNs compared to LSTMs. Research and practical experience have shown that LSTMs can often handle higher learning rates while still converging effectively. There are a few reasons for this:<br>\n",
        "1. Gradient stability: LSTMs are designed to mitigate the vanishing gradient problem that affects regular RNNs. This allows LSTMs to handle larger learning rates without causing instability during training.<br>\n",
        "2. Parameter complexity: LSTMs have more parameters and gates compared to simple RNNs. This increased complexity can make them more robust to higher learning rates.<br>\n",
        "3. Long-term dependencies: LSTMs are better at capturing long-term dependencies in sequences. This capability allows them to effectively utilize information over longer time steps, even with higher learning rates.<br>"
      ]
    },
    {
      "cell_type": "code",
      "execution_count": null,
      "metadata": {
        "id": "jlNclfdBWX9B"
      },
      "outputs": [],
      "source": []
    },
    {
      "cell_type": "code",
      "execution_count": null,
      "metadata": {
        "id": "TFWKFFmxWX9B"
      },
      "outputs": [],
      "source": []
    }
  ],
  "metadata": {
    "kernelspec": {
      "display_name": "Python 3 (ipykernel)",
      "language": "python",
      "name": "python3"
    },
    "language_info": {
      "codemirror_mode": {
        "name": "ipython",
        "version": 3
      },
      "file_extension": ".py",
      "mimetype": "text/x-python",
      "name": "python",
      "nbconvert_exporter": "python",
      "pygments_lexer": "ipython3",
      "version": "3.11.5"
    },
    "colab": {
      "provenance": []
    }
  },
  "nbformat": 4,
  "nbformat_minor": 0
}