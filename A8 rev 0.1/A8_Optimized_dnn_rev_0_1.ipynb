{
  "cells": [
    {
      "cell_type": "markdown",
      "metadata": {
        "collapsed": true,
        "jupyter": {
          "outputs_hidden": true
        },
        "id": "kUES0B22bxG-"
      },
      "source": [
        "# CS549 Machine Learning - Irfan Khan\n",
        "# Assignment 8: Optimized Neural Networks\n",
        "\n",
        "Updated from assignment designed by Yang Xu, Ex-Assistant Professor of Computer Science, San Diego State University\n",
        "\n",
        "**Total points: 18**\n",
        "\n",
        "There are two sections\n",
        "\n",
        "In this assignment, you will implement a feed-forward neural network for a multi-class classification task."
      ]
    },
    {
      "cell_type": "markdown",
      "metadata": {
        "id": "6edpjfiMbxHA"
      },
      "source": [
        "## Section 1\n",
        "**Points: 5**\n",
        "\n",
        "In this section we will take the same example as in Assignment 3 (A3) but use a neural network instead of the legacy logistic reasoning model we used in assignment A3. We need to predict a student’s chance of admission in SDSU based on their results on two exams. The two exams are similar to MATH SAT and Verbal SAT exams\n",
        "\n",
        "We have historical data from previous students that we can use as a training set for the neural network logistic regression. For each training example, we have the student’s scores and the admissions decision.\n",
        "\n",
        "First recap the result from A3 assignment. We got a pretty good straight line decision boundary but a few datapoints are misclassified. Can we do any better with a Neural Network?<br>\n",
        "\n",
        "<img src='A8image1.png'>"
      ]
    },
    {
      "cell_type": "markdown",
      "metadata": {
        "id": "Ef6OitSObxHC"
      },
      "source": [
        "## Import Libraries"
      ]
    },
    {
      "cell_type": "code",
      "execution_count": 1,
      "metadata": {
        "pycharm": {
          "is_executing": true
        },
        "id": "gh8iNSH1bxHC"
      },
      "outputs": [],
      "source": [
        "import numpy as np\n",
        "import pandas as pd\n",
        "import matplotlib.pyplot as plt\n",
        "import math\n",
        "import torch\n",
        "torch.manual_seed(0)\n",
        "torch.use_deterministic_algorithms(True)\n",
        "from torch import nn\n",
        "import torch.optim as optim\n",
        "from torch.utils.data import DataLoader\n",
        "from torchvision import datasets\n",
        "from torchvision.transforms import ToTensor"
      ]
    },
    {
      "cell_type": "markdown",
      "metadata": {
        "id": "uoi0bmW1bxHC"
      },
      "source": [
        "## Define a Neural Network\n",
        "\n",
        "Let us define a neural network with one hidden layer with ReLU activation function. The neural network outputs logits."
      ]
    },
    {
      "cell_type": "code",
      "execution_count": 2,
      "metadata": {
        "id": "Qr8aRO3jbxHD"
      },
      "outputs": [],
      "source": [
        "class NeuralNetworkLR(nn.Module):\n",
        "    def __init__(self, input_size, hidden_size, output_size):\n",
        "        super().__init__()\n",
        "        self.linear1 = nn.Linear(input_size, hidden_size)\n",
        "        self.relu = nn.ReLU()\n",
        "        self.linear2 = nn.Linear(hidden_size, output_size)\n",
        "\n",
        "    def forward(self, x):\n",
        "        x = self.linear1(x)\n",
        "        x = self.relu(x)\n",
        "        x = self.linear2(x)\n",
        "        return x"
      ]
    },
    {
      "cell_type": "markdown",
      "metadata": {
        "id": "Q3NsnjhCbxHD"
      },
      "source": [
        "## Load and Pre-process the data for Section 1\n",
        "\n",
        "See https://pytorch.org/docs/stable/data.html#torch.utils.data.DataLoader on data loader for more information.\n"
      ]
    },
    {
      "cell_type": "code",
      "execution_count": 4,
      "metadata": {
        "id": "tr20b5lcbxHD"
      },
      "outputs": [],
      "source": [
        "#Read Excel data using Pandas\n",
        "\n",
        "df = pd.read_excel('A3data.xlsx')\n",
        "#features_df=df[['Exam1', 'Exam2']].to_numpy()\n",
        "\n",
        "# Separate the data into features and labels, use float32 datatype\n",
        "\n",
        "features_LR = torch.tensor(df[['Exam1', 'Exam2']].values, dtype=torch.float32)\n",
        "\n",
        "\n",
        "avg_f=features_LR.mean(dim=0)\n",
        "std_f=features_LR.std(dim=0)\n",
        "\n",
        "\n",
        "#normalize feature data\n",
        "\n",
        "features_norm = (features_LR-avg_f)/std_f\n",
        "\n",
        "\n",
        "#Load Labels data. No need to normalize since data is only 0 or 1, use float32 datatype, unsqueeze to get compatible tensor with output needed later on\n",
        "\n",
        "labels_LR = torch.tensor(df['Admission Decision'].values, dtype=torch.float32)\n",
        "labels_LR = labels_LR.unsqueeze(1)\n",
        "\n",
        "#Get data ready for torch\n",
        "\n",
        "dataset = torch.utils.data.TensorDataset(features_norm, labels_LR)\n",
        "# Create a data loader\n",
        "data_loader = torch.utils.data.DataLoader(dataset, batch_size=100, shuffle=False)"
      ]
    },
    {
      "cell_type": "markdown",
      "metadata": {
        "id": "WCZU92GebxHD"
      },
      "source": [
        "## Create the Neural Network Model\n",
        "\n",
        "***2 points****\n",
        "\n",
        "Define how many neurons in each layer (2,10,1), loss criterion and optimizer. nn.BCEWithLogitsLoss() is used for the criterion. We will use Adams and L2 regularization for the optimizer. Use lr=0.001, weigh_dcay = 0.0001."
      ]
    },
    {
      "cell_type": "code",
      "execution_count": 5,
      "metadata": {
        "id": "A6d6WEsSbxHE"
      },
      "outputs": [],
      "source": [
        "# Create the neural network (2,10,1), model_LR\n",
        "\n",
        "#begin your code\n",
        "\n",
        "model_LR = NeuralNetworkLR(input_size=2, hidden_size=10, output_size=1)\n",
        "\n",
        "# Define the loss criterion and optimizer\n",
        "\n",
        "criterion = nn.BCEWithLogitsLoss()\n",
        "optimizer = torch.optim.Adam(model_LR.parameters(), lr=0.001, weight_decay=0.0001)\n",
        "\n",
        "\n",
        "#End your code"
      ]
    },
    {
      "cell_type": "markdown",
      "metadata": {
        "id": "YGpyKNxibxHE"
      },
      "source": [
        "## Train the Neural Network using back-propagation of gradients over 5000 Epochs\n",
        "\n",
        "**2 points**"
      ]
    },
    {
      "cell_type": "code",
      "execution_count": 10,
      "metadata": {
        "id": "toy2TT1vbxHF"
      },
      "outputs": [],
      "source": [
        "num_epochs = 5000\n",
        "for epoch in range(num_epochs):\n",
        "    # Zero the gradients\n",
        "    optimizer.zero_grad()\n",
        "\n",
        "    #begin your code\n",
        "    for i, (features_norm, labels_LR) in enumerate(data_loader):\n",
        "        # Forward pass\n",
        "        output = model_LR(features_norm)\n",
        "        loss = criterion(output, labels_LR)\n",
        "\n",
        "        # Backward pass\n",
        "        loss.backward()\n",
        "\n",
        "        # Optimize the weights and bias\n",
        "        optimizer.step()\n",
        "\n",
        "        #end your code\n",
        "\n"
      ]
    },
    {
      "cell_type": "markdown",
      "metadata": {
        "id": "eoSiubP6bxHF"
      },
      "source": [
        "## Predict Labels Using Trained Neural Network\n",
        "\n",
        "***1 point***\n",
        "\n",
        "Use features_norm as input. Don't use the labels. Store the predicted classifications in a numpy array \"pred_np\". In PyTorch, torch.no_grad() is a context manager that temporarily disables gradient calculation. It is typically used during inference or evaluation, where you don’t need to compute gradients, as this reduces memory usage and speeds up computation."
      ]
    },
    {
      "cell_type": "code",
      "execution_count": 11,
      "metadata": {
        "id": "bGdM4h8TbxHF"
      },
      "outputs": [],
      "source": [
        "pred=[] #use pred to store predicted classification: 1 or 0\n",
        "pred_logits=[] #Use pred_logits to store logits\n",
        "\n",
        "for i, (features_norm, labels_LR) in enumerate(data_loader):\n",
        "\n",
        "        # Forward pass\n",
        "    with torch.no_grad():\n",
        "        #obtain predictions from trained model_LR.\n",
        "        #start your code\n",
        "         predictions = model_LR(features_norm)\n",
        "\n",
        "\n",
        "\n",
        "        #end your code\n",
        "\n",
        "    pred_logits = np.append(pred_logits,predictions.detach().numpy())\n",
        "\n",
        "pred = [1 if entry >= 0 else 0 for entry in pred_logits]\n",
        "pred_np=np.array(pred) #Converts the pred list into a NumPy array."
      ]
    },
    {
      "cell_type": "markdown",
      "metadata": {
        "id": "mRwBdYobbxHF"
      },
      "source": [
        "## Plot a scatter plot of the data set with labels obtained from the Trained Neural Network"
      ]
    },
    {
      "cell_type": "code",
      "execution_count": 12,
      "metadata": {
        "scrolled": true,
        "colab": {
          "base_uri": "https://localhost:8080/",
          "height": 449
        },
        "id": "AqPf_-IgbxHF",
        "outputId": "5ec7b439-40ac-406b-da1d-7f80af27c5a4"
      },
      "outputs": [
        {
          "output_type": "display_data",
          "data": {
            "text/plain": [
              "<Figure size 640x480 with 1 Axes>"
            ],
            "image/png": "[encoded data removed]"
          },
          "metadata": {}
        }
      ],
      "source": [
        "# Define colors and labels based on pred values. Don't change the code in this cell.\n",
        "colors = np.where(pred_np == 0, 'black', 'green')\n",
        "labels = np.where(pred_np == 0, 'Not Admitted', 'Admitted')\n",
        "\n",
        "# Scatter plot with different colors based on pred\n",
        "plt.scatter(features_LR[:,0], features_LR[:,1], c=colors,marker='o')\n",
        "\n",
        "# Add labels and legend\n",
        "plt.xlabel('Exam1 Score')\n",
        "plt.ylabel('Exam2 Score')\n",
        "\n",
        "legend_labels = ['Not Admitted', 'Admitted']\n",
        "legend_markers = [plt.Line2D([0], [0], marker='o', color=color, label=label, markersize=10) for color, label in zip(['black', 'green'], legend_labels)]\n",
        "\n",
        "# Add the legend\n",
        "plt.legend(handles=legend_markers)\n",
        "\n",
        "plt.show()\n"
      ]
    },
    {
      "cell_type": "markdown",
      "metadata": {
        "id": "1scPhhNObxHF"
      },
      "source": [
        "## Expected Result **\n",
        "\n",
        "<img src = 'A8image2.png'>\n",
        "\n",
        "Compare with the original scatter plot. No misclassification. So we have improved over the legacy logistic reasoning approach!<br>\n",
        "\n",
        "<img src='A8image1.png'>\n",
        "\n"
      ]
    },
    {
      "cell_type": "markdown",
      "metadata": {
        "id": "_Gt7TdOWbxHG"
      },
      "source": [
        "## Predict classification for new data points ##\n",
        "\n",
        "Say (50,50),(35,99),(94,38),(80,80)"
      ]
    },
    {
      "cell_type": "code",
      "execution_count": 13,
      "metadata": {
        "colab": {
          "base_uri": "https://localhost:8080/"
        },
        "id": "uWVLrk5dbxHG",
        "outputId": "42b64c4c-aff8-4154-ab37-b4a7c72e1a48"
      },
      "outputs": [
        {
          "output_type": "stream",
          "name": "stdout",
          "text": [
            "Predicted Classifications [0, 0, 0, 1]\n"
          ]
        }
      ],
      "source": [
        "#Don't change code in this cell.\n",
        "new_features_np = np.array([[50., 50.],[35.,99.],[94.,38.],[80.,80.]])\n",
        "\n",
        "new_features_torch=torch.from_numpy(new_features_np).float()\n",
        "\n",
        "new_features_norm=(new_features_torch-avg_f)/std_f\n",
        "\n",
        "\n",
        "# Create a data loader\n",
        "new_data_loader = torch.utils.data.DataLoader(new_features_norm, batch_size=4, shuffle=False)\n",
        "        # Forward pass\n",
        "new_feature_pred=[]\n",
        "new_pred_logits=[]\n",
        "\n",
        "\n",
        "for new_features_norm in new_data_loader:\n",
        "\n",
        "    with torch.no_grad():\n",
        "            new_predictions = model_LR(new_features_norm)\n",
        "    new_pred_logits = np.append(new_pred_logits,new_predictions.detach().numpy())\n",
        "\n",
        "\n",
        "\n",
        "new_feature_pred = [1 if entry >= 0 else 0 for entry in new_pred_logits]\n",
        "print ('Predicted Classifications',new_feature_pred)"
      ]
    },
    {
      "cell_type": "markdown",
      "metadata": {
        "id": "lwWVm8csbxHG"
      },
      "source": [
        "## Expected Output\n",
        "Predicted Classifications [0 0 0 1]<br>\n",
        "Seems to make sense based on what the data sample scatter plot looks like! Neural network seems to have learnt that a very large score in Math1 will likely not lead to admittance if the Exam2 score is very low. Similarly seems to have learned that a very large score in Exam2 will likely not lead to admittance if the Exam1 score is very low"
      ]
    },
    {
      "cell_type": "markdown",
      "metadata": {
        "id": "c-dDwKR9bxHG"
      },
      "source": [
        "## Section 2\n",
        "\n",
        "***Total Points 13***"
      ]
    },
    {
      "cell_type": "markdown",
      "metadata": {
        "id": "be07qbPQbxHG"
      },
      "source": [
        "## Task 1: Build a deeper neural network model\n",
        "**Points: 3**\n",
        "\n",
        "Implement the `NeuralNetModel1` class. The model takes a $28\\times 28$ grey-scale image as input, and passes it through a deep neural network.\n",
        "\n",
        "The network has 2 hidden layers and 1 output layer, whose sizes are: 512 -> 512 -> 10. That is, the number of output classes is 10. The activation function for each hidden layer is `ReLU`.\n",
        "\n",
        "The input image should first be passed through a `nn.Flatten()` layer so that a 2D tensor becomes 1D."
      ]
    },
    {
      "cell_type": "code",
      "execution_count": 14,
      "metadata": {
        "id": "JA1MQxzrbxHG"
      },
      "outputs": [],
      "source": [
        "class NeuralNetModel1(nn.Module):\n",
        "    def __init__(self):\n",
        "        super(NeuralNetModel1, self).__init__()\n",
        "        ### START YOUR CODE ###\n",
        "        self.flatten = nn.Flatten()\n",
        "        self.fc1 = nn.Linear(28*28, 512)\n",
        "        self.relu1 = nn.ReLU()\n",
        "        self.fc2 = nn.Linear(512, 512)\n",
        "        self.relu2 = nn.ReLU()\n",
        "        self.fc3 = nn.Linear(512, 10)\n",
        "        ### END YOUR CODE ###\n",
        "\n",
        "    def forward(self, x):\n",
        "        ### START YOUR CODE ###\n",
        "        x = self.flatten(x)\n",
        "        x = self.fc1(x)\n",
        "        x = self.relu1(x)\n",
        "        x = self.fc2(x)\n",
        "        x = self.relu2(x)\n",
        "        logits = self.fc3(x)\n",
        "        ### END YOUR CODE ###\n",
        "        return logits"
      ]
    },
    {
      "cell_type": "code",
      "execution_count": 15,
      "metadata": {
        "colab": {
          "base_uri": "https://localhost:8080/"
        },
        "id": "3cKG36qTbxHH",
        "outputId": "c5987305-a694-4ab6-edbc-00f791aab66c"
      },
      "outputs": [
        {
          "output_type": "stream",
          "name": "stdout",
          "text": [
            "input size: torch.Size([5, 28, 28])\n",
            "output size: torch.Size([5, 10])\n"
          ]
        }
      ],
      "source": [
        "# Do not change the test code here\n",
        "sample_input = torch.randn(5, 28, 28)\n",
        "print('input size:', sample_input.size())\n",
        "\n",
        "model1 = NeuralNetModel1()\n",
        "with torch.no_grad():\n",
        "    output = model1(sample_input)\n",
        "print('output size:', output.size())"
      ]
    },
    {
      "cell_type": "markdown",
      "metadata": {
        "id": "ysq_uFtBbxHH"
      },
      "source": [
        "**Expected output**:\n",
        "\n",
        "input size: torch.Size([5, 28, 28])\\\n",
        "output size: torch.Size([5, 10])\n",
        "\n",
        "---\n",
        "\n",
        "## Task 2: Use dataloader\n",
        "**Points: 1**\n",
        "\n",
        "Download the FashionMNIST dataset provided by PyTorch to the folder \"data\", which takes some time for the first time execution. The FashionMNIST dataset consists of a total of 60,000 examples for training and 10,000 examples for testing. Each example is a grayscale image of size 28x28 pixels and is associated with one of the following 10 classes:\n",
        "\n",
        "T-shirt/top\n",
        "Trouser\n",
        "Pullover\n",
        "Dress\n",
        "Coat\n",
        "Sandal\n",
        "Shirt\n",
        "Sneaker\n",
        "Bag\n",
        "Ankle boot\n",
        "\n",
        "The division is as follows:\n",
        "\n",
        "Training set: 60,000 examples\n",
        "Testing set: 10,000 examples\n",
        "\n",
        "Use the `DataLoader` module to wrap the loaded training and test data. Specify the `batch_size` to be 64 for both training and test dataloader. So for training we will have $60000/64 = \\lceil 937.5 \\rceil= 938$ batches and for testing we will have $10000/64 = \\lceil 156.25 \\rceil= 157$\n",
        "\n",
        "See <https://pytorch.org/docs/stable/data.html#torch.utils.data.DataLoader> for more information."
      ]
    },
    {
      "cell_type": "code",
      "execution_count": 16,
      "metadata": {
        "colab": {
          "base_uri": "https://localhost:8080/"
        },
        "id": "oLyAkA5FbxHH",
        "outputId": "eba03974-65da-4684-b539-a1451ebbcc5b"
      },
      "outputs": [
        {
          "output_type": "stream",
          "name": "stderr",
          "text": [
            "100%|██████████| 26.4M/26.4M [00:03<00:00, 8.69MB/s]\n",
            "100%|██████████| 29.5k/29.5k [00:00<00:00, 136kB/s]\n",
            "100%|██████████| 4.42M/4.42M [00:01<00:00, 2.55MB/s]\n",
            "100%|██████████| 5.15k/5.15k [00:00<00:00, 22.2MB/s]\n"
          ]
        }
      ],
      "source": [
        "training_data = datasets.FashionMNIST(\n",
        "    root=\"data\",\n",
        "    train=True, # True\n",
        "    download=True,\n",
        "    transform=ToTensor()\n",
        ")\n",
        "\n",
        "test_data = datasets.FashionMNIST(\n",
        "    root=\"data\",\n",
        "    train=False, # False\n",
        "    download=True,\n",
        "    transform=ToTensor()\n",
        ")\n",
        "\n",
        "batch_size = 64\n",
        "\n",
        "### START YOUR CODE ###\n",
        "#create train_loader and test_loader\n",
        "train_loader = DataLoader(training_data, batch_size=64, shuffle=True)\n",
        "test_loader = DataLoader(test_data, batch_size=64, shuffle=False)\n",
        "\n",
        "### END YOUR CODE ###"
      ]
    },
    {
      "cell_type": "code",
      "execution_count": 17,
      "metadata": {
        "colab": {
          "base_uri": "https://localhost:8080/"
        },
        "id": "sNknr1PubxHH",
        "outputId": "c003b1eb-587f-4221-d94e-9d2b5cc1d9e8"
      },
      "outputs": [
        {
          "output_type": "stream",
          "name": "stdout",
          "text": [
            "Training data size: 60000\n",
            "Testing data size: 10000\n",
            "No of Training Batches: 938\n",
            "No of Test Batches: 157\n",
            "X size: torch.Size([64, 1, 28, 28])\n",
            "y size: torch.Size([64])\n"
          ]
        }
      ],
      "source": [
        "# Do not change the test code here.\n",
        "print('Training data size:', len(training_data))\n",
        "print('Testing data size:', len(test_data))\n",
        "print('No of Training Batches:', len(train_loader))\n",
        "print('No of Test Batches:', len(test_loader))\n",
        "\n",
        "count = 0\n",
        "for batch in train_loader:\n",
        "    X, y = batch\n",
        "    print('X size:', X.size())\n",
        "    print('y size:', y.size())\n",
        "    count += 1\n",
        "    if count > 0:\n",
        "        break"
      ]
    },
    {
      "cell_type": "markdown",
      "metadata": {
        "id": "wL1-PzNqbxHH"
      },
      "source": [
        "**Expected output**:\n",
        "\n",
        "Training data size: 60000<br>\n",
        "Testing data size: 10000<br>\n",
        "No of Training Batches: 938<br>\n",
        "No of Test Batches: 157<br>\n",
        "X size: torch.Size([64, 1, 28, 28])<br>\n",
        "y size: torch.Size([64])<br>"
      ]
    },
    {
      "cell_type": "markdown",
      "metadata": {
        "id": "ptS_5mdlbxHH"
      },
      "source": [
        "## Task 3: Define loss function and optimizer\n",
        "**Points: 1**\n",
        "\n",
        "Use `nn.CrossEntropyLoss()` as the loss function for loss_fn, and use `torch.optim.SGD()` as the optimizer for optimizer_sgd. Specify the arguments for `SGD()`, including the learning rate correctly.\n",
        "\n",
        "See <https://pytorch.org/docs/stable/generated/torch.nn.CrossEntropyLoss.html> and <https://pytorch.org/docs/stable/optim.html> for more information.\n"
      ]
    },
    {
      "cell_type": "code",
      "execution_count": 18,
      "metadata": {
        "id": "8duDlImCbxHH"
      },
      "outputs": [],
      "source": [
        "learning_rate = 1e-3\n",
        "\n",
        "### START YOUR CODE ###\n",
        "loss_fn = nn.CrossEntropyLoss()\n",
        "optimizer_sgd = torch.optim.SGD(model1.parameters(), lr=learning_rate)\n",
        "### END YOUR CODE ###"
      ]
    },
    {
      "cell_type": "code",
      "execution_count": 19,
      "metadata": {
        "colab": {
          "base_uri": "https://localhost:8080/"
        },
        "id": "mbM77GWmbxHH",
        "outputId": "7991d2f9-e410-43f0-acac-65a4a141de62"
      },
      "outputs": [
        {
          "output_type": "stream",
          "name": "stdout",
          "text": [
            "CrossEntropyLoss()\n",
            "<class 'torch.optim.sgd.SGD'>\n"
          ]
        }
      ],
      "source": [
        "# Do not change the test code here\n",
        "print(loss_fn)\n",
        "print(type(optimizer_sgd))"
      ]
    },
    {
      "cell_type": "markdown",
      "metadata": {
        "id": "Q51OadA9bxHI"
      },
      "source": [
        "**Expected output**:\n",
        "\n",
        "CrossEntropyLoss()<br>\n",
        "<class 'torch.optim.sgd.SGD'>\n",
        "\n",
        "---\n",
        "\n",
        "## Task 4: Implement train and test functions\n",
        "**Points: 8**\n",
        "\n",
        "2 points each for the next 4 cells\n",
        "\n",
        "Implement the code for training the model in `train()`. Implement the code for testing the model in `test()`. For the backpropagation step, you need to first zero out all gradients by calling `optimizer.zero_grad()` before carrying out `backward()` and `step()` to update parameters.\n",
        "\n",
        "In `test()`, you need to calculate the number of correct prediction in the current batch, and add it to the `correct` variable.\n",
        "Finally, you need to divide `correct` by the total number of test examples to obtain the test accuracy."
      ]
    },
    {
      "cell_type": "code",
      "execution_count": 20,
      "metadata": {
        "id": "O7q_wfZfbxHI"
      },
      "outputs": [],
      "source": [
        "def train_loop(dataloader, model, loss_fn, optimizer, verbose=True):\n",
        "    for i, (X, y) in enumerate(dataloader):\n",
        "        # Compute prediction (pred) and loss\n",
        "        ### START YOUR CODE ###\n",
        "        pred = model(X)\n",
        "        loss = loss_fn(pred, y)\n",
        "        ### END YOUR CODE ###\n",
        "\n",
        "        # Backpropagation\n",
        "        ### START YOUR CODE ###\n",
        "        #zero out gradients, specify loss function and optimizer to be used\n",
        "        optimizer.zero_grad()\n",
        "        loss.backward()\n",
        "        optimizer.step()\n",
        "        ### END YOUR CODE ###\n",
        "\n",
        "\n",
        "        if verbose and i % 100 == 0:\n",
        "            loss = loss.item()\n",
        "            current_step = i * len(X)\n",
        "            print(f\"loss: {loss:>7f}  [{current_step:>5d}/{len(dataloader.dataset):>5d}]\")"
      ]
    },
    {
      "cell_type": "code",
      "execution_count": 23,
      "metadata": {
        "id": "1ATXqH93bxHI"
      },
      "outputs": [],
      "source": [
        "@torch.no_grad()# since we dont want gradients updated\n",
        "def test_loop(dataloader, model, loss_fn):\n",
        "    test_loss, correct = 0, 0\n",
        "\n",
        "    for X, y in dataloader:\n",
        "        ### START YOUR CODE ###\n",
        "        # Compute prediction (pred)\n",
        "        #Compute test_loss\n",
        "        # Add the number of correct prediction in the current batch to `correct`\n",
        "        pred = model(X)\n",
        "        test_loss += loss_fn(pred, y).item()\n",
        "        correct += (pred.argmax(dim=1) == y).type(torch.float).sum().item()\n",
        "\n",
        "        ### END YOUR CODE ###\n",
        "\n",
        "    test_loss /= len(dataloader)\n",
        "    ### START YOUR CODE ###\n",
        "    #Represent the prediction accuracy in test_acc\n",
        "    test_acc = correct / len(dataloader.dataset)\n",
        "    ### END YOUR CODE ###\n",
        "\n",
        "    print(f\"Test Error: \\n Accuracy: {(100*test_acc):>0.1f}%, Avg loss: {test_loss:>8f} \\n\")"
      ]
    },
    {
      "cell_type": "markdown",
      "metadata": {
        "id": "_vEKSLtFbxHI"
      },
      "source": [
        "Next, execute the following cell to start the training and testing loop. Be patient - this cell execution is time-consuming!"
      ]
    },
    {
      "cell_type": "code",
      "execution_count": 24,
      "metadata": {
        "colab": {
          "base_uri": "https://localhost:8080/"
        },
        "id": "-dQLSW6abxHI",
        "outputId": "063d248c-e441-4bdf-d6df-51ba6a4aa2dd"
      },
      "outputs": [
        {
          "output_type": "stream",
          "name": "stdout",
          "text": [
            "Epoch 1\n",
            "-------------------------------\n",
            "loss: 2.309156  [    0/60000]\n",
            "loss: 2.295386  [ 6400/60000]\n",
            "loss: 2.279807  [12800/60000]\n",
            "loss: 2.263390  [19200/60000]\n",
            "loss: 2.243158  [25600/60000]\n",
            "loss: 2.230982  [32000/60000]\n",
            "loss: 2.212330  [38400/60000]\n",
            "loss: 2.199281  [44800/60000]\n",
            "loss: 2.197733  [51200/60000]\n",
            "loss: 2.177145  [57600/60000]\n",
            "Test Error: \n",
            " Accuracy: 51.3%, Avg loss: 2.158479 \n",
            "\n",
            "Epoch 2\n",
            "-------------------------------\n",
            "loss: 2.152864  [    0/60000]\n",
            "loss: 2.147082  [ 6400/60000]\n",
            "loss: 2.138966  [12800/60000]\n",
            "loss: 2.087230  [19200/60000]\n",
            "loss: 2.051121  [25600/60000]\n",
            "loss: 2.039433  [32000/60000]\n",
            "loss: 2.033757  [38400/60000]\n",
            "loss: 1.954946  [44800/60000]\n",
            "loss: 1.945309  [51200/60000]\n",
            "loss: 1.867854  [57600/60000]\n",
            "Test Error: \n",
            " Accuracy: 53.5%, Avg loss: 1.878028 \n",
            "\n",
            "Epoch 3\n",
            "-------------------------------\n",
            "loss: 1.846343  [    0/60000]\n",
            "loss: 1.912874  [ 6400/60000]\n",
            "loss: 1.785905  [12800/60000]\n",
            "loss: 1.759980  [19200/60000]\n",
            "loss: 1.673190  [25600/60000]\n",
            "loss: 1.696868  [32000/60000]\n",
            "loss: 1.607819  [38400/60000]\n",
            "loss: 1.591346  [44800/60000]\n",
            "loss: 1.591436  [51200/60000]\n",
            "loss: 1.552689  [57600/60000]\n",
            "Test Error: \n",
            " Accuracy: 58.2%, Avg loss: 1.513866 \n",
            "\n",
            "Epoch 4\n",
            "-------------------------------\n",
            "loss: 1.490333  [    0/60000]\n",
            "loss: 1.491927  [ 6400/60000]\n",
            "loss: 1.337468  [12800/60000]\n",
            "loss: 1.364157  [19200/60000]\n",
            "loss: 1.345295  [25600/60000]\n",
            "loss: 1.318888  [32000/60000]\n",
            "loss: 1.364668  [38400/60000]\n",
            "loss: 1.270610  [44800/60000]\n",
            "loss: 1.229603  [51200/60000]\n",
            "loss: 1.191095  [57600/60000]\n",
            "Test Error: \n",
            " Accuracy: 61.9%, Avg loss: 1.256391 \n",
            "\n",
            "Epoch 5\n",
            "-------------------------------\n",
            "loss: 1.349904  [    0/60000]\n",
            "loss: 1.218265  [ 6400/60000]\n",
            "loss: 1.193972  [12800/60000]\n",
            "loss: 1.229305  [19200/60000]\n",
            "loss: 1.216539  [25600/60000]\n",
            "loss: 1.157529  [32000/60000]\n",
            "loss: 1.211453  [38400/60000]\n",
            "loss: 1.103674  [44800/60000]\n",
            "loss: 1.023610  [51200/60000]\n",
            "loss: 1.097457  [57600/60000]\n",
            "Test Error: \n",
            " Accuracy: 64.0%, Avg loss: 1.093366 \n",
            "\n",
            "Epoch 6\n",
            "-------------------------------\n",
            "loss: 1.067722  [    0/60000]\n",
            "loss: 1.097634  [ 6400/60000]\n",
            "loss: 1.052835  [12800/60000]\n",
            "loss: 0.991165  [19200/60000]\n",
            "loss: 1.066193  [25600/60000]\n",
            "loss: 0.974129  [32000/60000]\n",
            "loss: 1.081503  [38400/60000]\n",
            "loss: 0.880091  [44800/60000]\n",
            "loss: 0.978411  [51200/60000]\n",
            "loss: 1.048784  [57600/60000]\n",
            "Test Error: \n",
            " Accuracy: 65.5%, Avg loss: 0.986403 \n",
            "\n",
            "Epoch 7\n",
            "-------------------------------\n",
            "loss: 1.084076  [    0/60000]\n",
            "loss: 1.017785  [ 6400/60000]\n",
            "loss: 1.116365  [12800/60000]\n",
            "loss: 1.034426  [19200/60000]\n",
            "loss: 0.774008  [25600/60000]\n",
            "loss: 1.074732  [32000/60000]\n",
            "loss: 0.743800  [38400/60000]\n",
            "loss: 0.848722  [44800/60000]\n",
            "loss: 0.795156  [51200/60000]\n",
            "loss: 0.852095  [57600/60000]\n",
            "Test Error: \n",
            " Accuracy: 66.4%, Avg loss: 0.914157 \n",
            "\n",
            "Epoch 8\n",
            "-------------------------------\n",
            "loss: 0.928454  [    0/60000]\n",
            "loss: 0.990228  [ 6400/60000]\n",
            "loss: 1.019119  [12800/60000]\n",
            "loss: 0.856302  [19200/60000]\n",
            "loss: 0.801445  [25600/60000]\n",
            "loss: 0.727924  [32000/60000]\n",
            "loss: 0.755806  [38400/60000]\n",
            "loss: 0.734928  [44800/60000]\n",
            "loss: 0.935847  [51200/60000]\n",
            "loss: 1.022517  [57600/60000]\n",
            "Test Error: \n",
            " Accuracy: 68.3%, Avg loss: 0.859942 \n",
            "\n",
            "Epoch 9\n",
            "-------------------------------\n",
            "loss: 0.881970  [    0/60000]\n",
            "loss: 0.839450  [ 6400/60000]\n",
            "loss: 0.815678  [12800/60000]\n",
            "loss: 0.862576  [19200/60000]\n",
            "loss: 0.717919  [25600/60000]\n",
            "loss: 0.850944  [32000/60000]\n",
            "loss: 0.783913  [38400/60000]\n",
            "loss: 0.526361  [44800/60000]\n",
            "loss: 0.725499  [51200/60000]\n",
            "loss: 0.994594  [57600/60000]\n",
            "Test Error: \n",
            " Accuracy: 70.1%, Avg loss: 0.819945 \n",
            "\n",
            "Epoch 10\n",
            "-------------------------------\n",
            "loss: 0.739930  [    0/60000]\n",
            "loss: 0.768856  [ 6400/60000]\n",
            "loss: 0.914685  [12800/60000]\n",
            "loss: 0.752988  [19200/60000]\n",
            "loss: 0.702706  [25600/60000]\n",
            "loss: 0.839542  [32000/60000]\n",
            "loss: 0.804589  [38400/60000]\n",
            "loss: 0.702663  [44800/60000]\n",
            "loss: 0.799735  [51200/60000]\n",
            "loss: 0.788010  [57600/60000]\n",
            "Test Error: \n",
            " Accuracy: 71.0%, Avg loss: 0.788980 \n",
            "\n",
            "Done!\n"
          ]
        }
      ],
      "source": [
        "\n",
        "model1 = NeuralNetModel1() # Reset the model\n",
        "### START YOUR CODE ###\n",
        "\n",
        "#Because the model1 is reset, the optimizer (optimizer_sgd), also needs to be redefined. Do that here.\n",
        "optimizer_sgd = torch.optim.SGD(model1.parameters(), lr=1e-3)\n",
        "### END YOUR CODE ###\n",
        "\n",
        "epochs = 10\n",
        "for t in range(epochs):\n",
        "    print(f\"Epoch {t+1}\\n-------------------------------\")\n",
        "    ### START YOUR CODE ###\n",
        "    #Run train_loop followed by test_loop\n",
        "    train_loop(train_loader, model1, loss_fn, optimizer_sgd, verbose=True)\n",
        "    test_loop(test_loader, model1, loss_fn)\n",
        "\n",
        "    ### END YOUR CODE ###\n",
        "\n",
        "print(\"Done!\")\n"
      ]
    },
    {
      "cell_type": "markdown",
      "metadata": {
        "id": "cLJMWhrjbxHI"
      },
      "source": [
        "**Expected output**\n",
        "\n",
        "The test accuracy from the last epoch should be above 70%.\n",
        "\n",
        "---\n",
        "\n",
        "Next, train an ADAM optimizer. Note that the model needs be reset. Don't specify hyper-parameter values for beta1 and beta2. Default values (0.9, 0.999) will get used. Again, training for 10 epochs will take some time."
      ]
    },
    {
      "cell_type": "code",
      "execution_count": 25,
      "metadata": {
        "colab": {
          "base_uri": "https://localhost:8080/"
        },
        "id": "invTWuKfbxHI",
        "outputId": "795d9ea6-59cd-4683-9b96-341a982329fd"
      },
      "outputs": [
        {
          "output_type": "stream",
          "name": "stdout",
          "text": [
            "Epoch 1\n",
            "-------------------------------\n",
            "loss: 2.304735  [    0/60000]\n",
            "loss: 0.539859  [ 6400/60000]\n",
            "loss: 0.648779  [12800/60000]\n",
            "loss: 0.468734  [19200/60000]\n",
            "loss: 0.318746  [25600/60000]\n",
            "loss: 0.425651  [32000/60000]\n",
            "loss: 0.465028  [38400/60000]\n",
            "loss: 0.325248  [44800/60000]\n",
            "loss: 0.195130  [51200/60000]\n",
            "loss: 0.393040  [57600/60000]\n",
            "Test Error: \n",
            " Accuracy: 84.9%, Avg loss: 0.413078 \n",
            "\n",
            "Epoch 2\n",
            "-------------------------------\n",
            "loss: 0.447968  [    0/60000]\n",
            "loss: 0.381167  [ 6400/60000]\n",
            "loss: 0.431979  [12800/60000]\n",
            "loss: 0.418534  [19200/60000]\n",
            "loss: 0.526532  [25600/60000]\n",
            "loss: 0.276895  [32000/60000]\n",
            "loss: 0.564609  [38400/60000]\n",
            "loss: 0.376708  [44800/60000]\n",
            "loss: 0.351676  [51200/60000]\n",
            "loss: 0.519943  [57600/60000]\n",
            "Test Error: \n",
            " Accuracy: 86.4%, Avg loss: 0.374570 \n",
            "\n",
            "Epoch 3\n",
            "-------------------------------\n",
            "loss: 0.297080  [    0/60000]\n",
            "loss: 0.451234  [ 6400/60000]\n",
            "loss: 0.257277  [12800/60000]\n",
            "loss: 0.246773  [19200/60000]\n",
            "loss: 0.203629  [25600/60000]\n",
            "loss: 0.374532  [32000/60000]\n",
            "loss: 0.523178  [38400/60000]\n",
            "loss: 0.191365  [44800/60000]\n",
            "loss: 0.390367  [51200/60000]\n",
            "loss: 0.451023  [57600/60000]\n",
            "Test Error: \n",
            " Accuracy: 87.3%, Avg loss: 0.349515 \n",
            "\n",
            "Epoch 4\n",
            "-------------------------------\n",
            "loss: 0.260322  [    0/60000]\n",
            "loss: 0.283015  [ 6400/60000]\n",
            "loss: 0.294946  [12800/60000]\n",
            "loss: 0.388235  [19200/60000]\n",
            "loss: 0.289050  [25600/60000]\n",
            "loss: 0.239088  [32000/60000]\n",
            "loss: 0.319731  [38400/60000]\n",
            "loss: 0.290611  [44800/60000]\n",
            "loss: 0.202129  [51200/60000]\n",
            "loss: 0.424280  [57600/60000]\n",
            "Test Error: \n",
            " Accuracy: 88.1%, Avg loss: 0.335809 \n",
            "\n",
            "Epoch 5\n",
            "-------------------------------\n",
            "loss: 0.282276  [    0/60000]\n",
            "loss: 0.239773  [ 6400/60000]\n",
            "loss: 0.468741  [12800/60000]\n",
            "loss: 0.184116  [19200/60000]\n",
            "loss: 0.252572  [25600/60000]\n",
            "loss: 0.362554  [32000/60000]\n",
            "loss: 0.218223  [38400/60000]\n",
            "loss: 0.234673  [44800/60000]\n",
            "loss: 0.178898  [51200/60000]\n",
            "loss: 0.368092  [57600/60000]\n",
            "Test Error: \n",
            " Accuracy: 87.6%, Avg loss: 0.354984 \n",
            "\n",
            "Epoch 6\n",
            "-------------------------------\n",
            "loss: 0.177077  [    0/60000]\n",
            "loss: 0.335159  [ 6400/60000]\n",
            "loss: 0.217181  [12800/60000]\n",
            "loss: 0.295147  [19200/60000]\n",
            "loss: 0.298937  [25600/60000]\n",
            "loss: 0.250694  [32000/60000]\n",
            "loss: 0.207523  [38400/60000]\n",
            "loss: 0.561853  [44800/60000]\n",
            "loss: 0.418815  [51200/60000]\n",
            "loss: 0.289407  [57600/60000]\n",
            "Test Error: \n",
            " Accuracy: 88.0%, Avg loss: 0.338650 \n",
            "\n",
            "Epoch 7\n",
            "-------------------------------\n",
            "loss: 0.276158  [    0/60000]\n",
            "loss: 0.169407  [ 6400/60000]\n",
            "loss: 0.239692  [12800/60000]\n",
            "loss: 0.422784  [19200/60000]\n",
            "loss: 0.179063  [25600/60000]\n",
            "loss: 0.329897  [32000/60000]\n",
            "loss: 0.257978  [38400/60000]\n",
            "loss: 0.201412  [44800/60000]\n",
            "loss: 0.329294  [51200/60000]\n",
            "loss: 0.273846  [57600/60000]\n",
            "Test Error: \n",
            " Accuracy: 87.9%, Avg loss: 0.334178 \n",
            "\n",
            "Epoch 8\n",
            "-------------------------------\n",
            "loss: 0.237907  [    0/60000]\n",
            "loss: 0.336529  [ 6400/60000]\n",
            "loss: 0.128770  [12800/60000]\n",
            "loss: 0.269792  [19200/60000]\n",
            "loss: 0.123331  [25600/60000]\n",
            "loss: 0.105835  [32000/60000]\n",
            "loss: 0.315008  [38400/60000]\n",
            "loss: 0.174544  [44800/60000]\n",
            "loss: 0.166673  [51200/60000]\n",
            "loss: 0.182008  [57600/60000]\n",
            "Test Error: \n",
            " Accuracy: 88.3%, Avg loss: 0.321982 \n",
            "\n",
            "Epoch 9\n",
            "-------------------------------\n",
            "loss: 0.274738  [    0/60000]\n",
            "loss: 0.162891  [ 6400/60000]\n",
            "loss: 0.211898  [12800/60000]\n",
            "loss: 0.197942  [19200/60000]\n",
            "loss: 0.363371  [25600/60000]\n",
            "loss: 0.078094  [32000/60000]\n",
            "loss: 0.114929  [38400/60000]\n",
            "loss: 0.251629  [44800/60000]\n",
            "loss: 0.179114  [51200/60000]\n",
            "loss: 0.204977  [57600/60000]\n",
            "Test Error: \n",
            " Accuracy: 88.6%, Avg loss: 0.330116 \n",
            "\n",
            "Epoch 10\n",
            "-------------------------------\n",
            "loss: 0.122264  [    0/60000]\n",
            "loss: 0.285429  [ 6400/60000]\n",
            "loss: 0.239534  [12800/60000]\n",
            "loss: 0.190365  [19200/60000]\n",
            "loss: 0.167966  [25600/60000]\n",
            "loss: 0.254859  [32000/60000]\n",
            "loss: 0.287160  [38400/60000]\n",
            "loss: 0.221277  [44800/60000]\n",
            "loss: 0.242263  [51200/60000]\n",
            "loss: 0.370956  [57600/60000]\n",
            "Test Error: \n",
            " Accuracy: 88.8%, Avg loss: 0.333280 \n",
            "\n",
            "Done!\n"
          ]
        }
      ],
      "source": [
        "model1 = NeuralNetModel1() # Reset the model\n",
        "\n",
        "### START YOUR CODE ###\n",
        "#Because the model1 is reset, the optimizer (optimizer_adam), also needs to be redefined. Do that here.\n",
        "### START YOUR CODE ###\n",
        "optimizer_adam = torch.optim.Adam(model1.parameters(), lr=1e-3)\n",
        "### END YOUR CODE ###\n",
        "epochs = 10\n",
        "for t in range(epochs):\n",
        "    print(f\"Epoch {t+1}\\n-------------------------------\")\n",
        "    ### START YOUR CODE ###\n",
        "    #train_loop and test_loop\n",
        "    train_loop(train_loader, model1, loss_fn, optimizer_adam, verbose=True)\n",
        "    test_loop(test_loader, model1, loss_fn)\n",
        "    ### END YOUR CODE ###\n",
        "\n",
        "print(\"Done!\")\n"
      ]
    },
    {
      "cell_type": "markdown",
      "metadata": {
        "id": "65-n8K9hbxHJ"
      },
      "source": [
        "**Expected output**:\n",
        "\n",
        "You can find that the training converges much faster using ADAM. For instance training after Epoch 1 with Adams yields a better performance than training after 10 epochs without Adams.\n",
        "\n",
        "---\n"
      ]
    },
    {
      "cell_type": "code",
      "execution_count": null,
      "metadata": {
        "id": "CEgf7m87bxHJ"
      },
      "outputs": [],
      "source": []
    }
  ],
  "metadata": {
    "kernelspec": {
      "display_name": "Python [conda env:base] *",
      "language": "python",
      "name": "conda-base-py"
    },
    "language_info": {
      "codemirror_mode": {
        "name": "ipython",
        "version": 3
      },
      "file_extension": ".py",
      "mimetype": "text/x-python",
      "name": "python",
      "nbconvert_exporter": "python",
      "pygments_lexer": "ipython3",
      "version": "3.12.3"
    },
    "colab": {
      "provenance": []
    }
  },
  "nbformat": 4,
  "nbformat_minor": 0
}