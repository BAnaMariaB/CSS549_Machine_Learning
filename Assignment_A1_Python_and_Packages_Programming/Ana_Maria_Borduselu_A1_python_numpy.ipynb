{
  "cells": [
    {
      "cell_type": "markdown",
      "metadata": {
        "id": "_-sY19WhD0KO"
      },
      "source": [
        "# CS549-02 Machine Learning: Irfan Khan\n",
        "# Assignment 1: Python and numpy basics\n",
        "\n",
        "\n",
        "**Total: 10 points**\n",
        "\n",
        "In this assignment, you will gain practice in the use of Jupyter platform, write python code and utilize the numpy package.\n",
        "\n",
        "There are five cells below. Please add missing code in each cell and run the cells from top to bottom.\n",
        "\n",
        "Your output should be the same as the expected output.\n",
        "\n",
        "References: Python: https://docs.python.org/3/; numpy: https://numpy.org/doc/stable/"
      ]
    },
    {
      "cell_type": "markdown",
      "metadata": {
        "id": "JEIiOcqgBwvW"
      },
      "source": [
        "## 1 (2 points): String Manipulation:\n",
        "\n",
        "Given a string, write a Python function to:\n",
        "\n",
        "1. Calculate the length of the string.\n",
        "2. Print the string in uppercase.\n",
        "3. Count the number of vowels in the string.\n",
        "4. Check if the string is a palindrome."
      ]
    },
    {
      "cell_type": "code",
      "execution_count": null,
      "metadata": {
        "colab": {
          "base_uri": "https://localhost:8080/"
        },
        "id": "ShAZABWVBwvX",
        "outputId": "e0b06a52-2e11-424c-eba2-1cc9695f7354"
      },
      "outputs": [
        {
          "output_type": "stream",
          "name": "stdout",
          "text": [
            "Length: 6\n",
            "Uppercase String: PYTHON\n",
            "Number of Vowels: 1\n",
            "Is Palindrome: False\n",
            "Length: 7\n",
            "Uppercase String: ROTATOR\n",
            "Number of Vowels: 3\n",
            "Is Palindrome: True\n"
          ]
        }
      ],
      "source": [
        "def string_operations(input_string):\n",
        "    # Calculate length\n",
        "    length = len(input_string)\n",
        "\n",
        "    # End your code\n",
        "\n",
        "\n",
        "    # Print in uppercase\n",
        "    #Begin your code\n",
        "    uppercase_string = input_string.upper()\n",
        "\n",
        "    #End your code\n",
        "\n",
        "    # Count vowels\n",
        "    #Begin your Code\n",
        "    vowels = sum(1 for char in input_string.lower() if char in 'aeiou')\n",
        "\n",
        "    #End your code\n",
        "\n",
        "    # Check palindrome\n",
        "    #Begin your code\n",
        "    is_palindrome = input_string ==input_string[::-1]\n",
        "\n",
        "    #End your code\n",
        "\n",
        "    return length, uppercase_string, vowels, is_palindrome\n",
        "\n",
        "# Example usage:\n",
        "input_str = \"python\"\n",
        "result = string_operations(input_str)\n",
        "print(\"Length:\", result[0])\n",
        "print(\"Uppercase String:\", result[1])\n",
        "print(\"Number of Vowels:\", result[2])\n",
        "print(\"Is Palindrome:\", result[3])\n",
        "input_str = \"rotator\"\n",
        "result = string_operations (input_str)\n",
        "print(\"Length:\", result[0])\n",
        "print(\"Uppercase String:\", result[1])\n",
        "print(\"Number of Vowels:\", result[2])\n",
        "print(\"Is Palindrome:\", result[3])"
      ]
    },
    {
      "cell_type": "markdown",
      "metadata": {
        "id": "rRLvB4FVBwvZ"
      },
      "source": [
        "### Expected Output\n",
        "\n",
        "Length: 6 <br>\n",
        "Uppercase String: PYTHON <br>\n",
        "Number of Vowels: 1 <br>\n",
        "Is Palindrome: False <br>\n",
        "Length: 7 <br>\n",
        "Uppercase String: ROTATOR <br>\n",
        "Number of Vowels: 3 <br>\n",
        "Is Palindrome: True"
      ]
    },
    {
      "cell_type": "markdown",
      "metadata": {
        "id": "0n29oaU2BwvZ"
      },
      "source": [
        "## 2 (2 points) : List Operations\n",
        "\n",
        "Given a list of integers, write a Python function to:\n",
        "\n",
        "1. Calculate the sum of the list.\n",
        "2. Find the maximum and minimum values in the list.\n",
        "3. Create a new list containing only the even numbers from the original list."
      ]
    },
    {
      "cell_type": "code",
      "execution_count": null,
      "metadata": {
        "colab": {
          "base_uri": "https://localhost:8080/"
        },
        "id": "ewa1cTEZBwva",
        "outputId": "061700da-2056-499c-fc56-e8f393f7c70c"
      },
      "outputs": [
        {
          "output_type": "stream",
          "name": "stdout",
          "text": [
            "Sum: 39\n",
            "Max Value: 10\n",
            "Min Value: 1\n",
            "Even Numbers: [4, 2, 10, 6]\n"
          ]
        }
      ],
      "source": [
        "def list_operations(numbers):\n",
        "    # Calculate sum\n",
        "\n",
        "    # Begin your code\n",
        "    list_sum = sum(numbers)\n",
        "\n",
        "\n",
        "    # End your code\n",
        "\n",
        "    # Find max and min\n",
        "\n",
        "    # Begin your code\n",
        "    max_value = max(numbers)\n",
        "    min_value = min(numbers)\n",
        "\n",
        "    #End your code\n",
        "\n",
        "    # Extract even numbers\n",
        "\n",
        "    #Begin your code\n",
        "    even_numbers = [num for num in numbers if num % 2 == 0]\n",
        "\n",
        "\n",
        "    return list_sum, max_value, min_value, even_numbers\n",
        "    #End your code\n",
        "\n",
        "# Example usage:\n",
        "numbers_list = [1, 4, 7, 2, 9, 10, 6]\n",
        "result = list_operations(numbers_list)\n",
        "print(\"Sum:\", result[0])\n",
        "print(\"Max Value:\", result[1])\n",
        "print(\"Min Value:\", result[2])\n",
        "print(\"Even Numbers:\", result[3])"
      ]
    },
    {
      "cell_type": "markdown",
      "metadata": {
        "id": "qTqbhqrnBwva"
      },
      "source": [
        "### Expected Output\n",
        "\n",
        "Sum: 39<br>\n",
        "Max Value: 10<br>\n",
        "Min Value: 1<br>\n",
        "Even Numbers: [4, 2, 10, 6]"
      ]
    },
    {
      "cell_type": "markdown",
      "metadata": {
        "id": "hT59cOndBwvb"
      },
      "source": [
        "## NumPy use\n",
        "\n",
        "First import numpy"
      ]
    },
    {
      "cell_type": "code",
      "execution_count": null,
      "metadata": {
        "id": "2Vswu_FAD0Kf"
      },
      "outputs": [],
      "source": [
        "import numpy as np"
      ]
    },
    {
      "cell_type": "markdown",
      "metadata": {
        "id": "BNgYph8AD0Kw"
      },
      "source": [
        "\n",
        "## 3 (2 points): Matrix Operations\n",
        "\n",
        "Create two matrices (3x3) and perform the following operations:\n",
        "\n",
        "Matrix addition.<br>\n",
        "Matrix multiplication.<br>\n",
        "Element-wise multiplication.<br>\n",
        "Transpose of the second matrix.<br>"
      ]
    },
    {
      "cell_type": "code",
      "execution_count": null,
      "metadata": {
        "id": "3O_Lh6PdD0Kz",
        "tags": [],
        "colab": {
          "base_uri": "https://localhost:8080/"
        },
        "outputId": "69580c02-c81f-4ccc-cce6-56b02121d511"
      },
      "outputs": [
        {
          "output_type": "stream",
          "name": "stdout",
          "text": [
            "Matrix Addition:\n",
            "[[10 10 10]\n",
            " [10 10 10]\n",
            " [10 10 10]]\n",
            "\n",
            "Matrix Multiplication:\n",
            "[[ 30  24  18]\n",
            " [ 84  69  54]\n",
            " [138 114  90]]\n",
            "\n",
            "Element-wise Multiplication:\n",
            "[[ 9 16 21]\n",
            " [24 25 24]\n",
            " [21 16  9]]\n",
            "\n",
            "Transposed Matrix2:\n",
            "[[9 6 3]\n",
            " [8 5 2]\n",
            " [7 4 1]]\n"
          ]
        }
      ],
      "source": [
        "# Creating matrices\n",
        "#For consistency in assignment results, please don't change the below two matrices\n",
        "\n",
        "matrix1 = np.array([[1, 2, 3], [4, 5, 6], [7, 8, 9]])\n",
        "matrix2 = np.array([[9, 8, 7], [6, 5, 4], [3, 2, 1]])\n",
        "\n",
        "# Operations\n",
        "\n",
        "# Matrix addition\n",
        "\n",
        "matrix_addition = matrix1 + matrix2\n",
        "\n",
        "# Matrix Multiplication\n",
        "\n",
        "matrix_multiplication = np.dot(matrix1, matrix2)\n",
        "\n",
        "#end code#\n",
        "\n",
        "# Element-wise Multiplication\n",
        "\n",
        "elementwise_multiplication = matrix1 * matrix2\n",
        "\n",
        "#end code\n",
        "\n",
        "#Transpose of Matrix 2\n",
        "transposed_matrix2 = np.transpose(matrix2)\n",
        "\n",
        "#end code\n",
        "\n",
        "print(\"Matrix Addition:\")\n",
        "print(matrix_addition)\n",
        "\n",
        "print(\"\\nMatrix Multiplication:\")\n",
        "print(matrix_multiplication)\n",
        "\n",
        "print(\"\\nElement-wise Multiplication:\")\n",
        "print(elementwise_multiplication)\n",
        "\n",
        "print(\"\\nTransposed Matrix2:\")\n",
        "print(transposed_matrix2)"
      ]
    },
    {
      "cell_type": "markdown",
      "metadata": {
        "id": "VeioSTcxD0K2"
      },
      "source": [
        "### Expected output\n",
        "\n",
        "Matrix Addition:<br>\n",
        "[[10 10 10]<br>\n",
        " [10 10 10]<br>\n",
        " [10 10 10]]<br>\n",
        "\n",
        "Matrix Multiplication:<br>\n",
        "[[ 30  24  18]<br>\n",
        " [ 84  69  54]<br>\n",
        " [138 114  90]]<br>\n",
        "\n",
        "Element-wise Multiplication:<br>\n",
        "[[ 9 16 21]<br>\n",
        " [24 25 24]<br>\n",
        " [21 16  9]]<br>\n",
        "\n",
        "Transposed Matrix2:<br>\n",
        "[[9 6 3]<br>\n",
        " [8 5 2]<br>\n",
        " [7 4 1]]<br>\n"
      ]
    },
    {
      "cell_type": "markdown",
      "metadata": {
        "id": "4sfjyZm2Bwvd"
      },
      "source": [
        "## 4 (2 points): Data Analysis with NumPy\n",
        "\n",
        "Load the given dataset A1Data (you can use numpy.loadtxt or any other suitable method) and perform the following:\n",
        "\n",
        "Calculate the mean and standard deviation of each column.<br>\n",
        "Find the row with the maximum sum.<br>\n",
        "Normalize the dataset by subtracting the mean and dividing by the standard deviation for each column."
      ]
    },
    {
      "cell_type": "code",
      "execution_count": null,
      "metadata": {
        "id": "h3C_4eFND0K6",
        "colab": {
          "base_uri": "https://localhost:8080/",
          "height": 464
        },
        "outputId": "fee61691-be5d-41f5-e507-c4761144a616"
      },
      "outputs": [
        {
          "output_type": "display_data",
          "data": {
            "text/plain": [
              "<IPython.core.display.HTML object>"
            ],
            "text/html": [
              "\n",
              "     <input type=\"file\" id=\"files-ace8ef3a-6bc8-47e6-9137-12e6a634767a\" name=\"files[]\" multiple disabled\n",
              "        style=\"border:none\" />\n",
              "     <output id=\"result-ace8ef3a-6bc8-47e6-9137-12e6a634767a\">\n",
              "      Upload widget is only available when the cell has been executed in the\n",
              "      current browser session. Please rerun this cell to enable.\n",
              "      </output>\n",
              "      <script>// Copyright 2017 Google LLC\n",
              "//\n",
              "// Licensed under the Apache License, Version 2.0 (the \"License\");\n",
              "// you may not use this file except in compliance with the License.\n",
              "// You may obtain a copy of the License at\n",
              "//\n",
              "//      http://www.apache.org/licenses/LICENSE-2.0\n",
              "//\n",
              "// Unless required by applicable law or agreed to in writing, software\n",
              "// distributed under the License is distributed on an \"AS IS\" BASIS,\n",
              "// WITHOUT WARRANTIES OR CONDITIONS OF ANY KIND, either express or implied.\n",
              "// See the License for the specific language governing permissions and\n",
              "// limitations under the License.\n",
              "\n",
              "/**\n",
              " * @fileoverview Helpers for google.colab Python module.\n",
              " */\n",
              "(function(scope) {\n",
              "function span(text, styleAttributes = {}) {\n",
              "  const element = document.createElement('span');\n",
              "  element.textContent = text;\n",
              "  for (const key of Object.keys(styleAttributes)) {\n",
              "    element.style[key] = styleAttributes[key];\n",
              "  }\n",
              "  return element;\n",
              "}\n",
              "\n",
              "// Max number of bytes which will be uploaded at a time.\n",
              "const MAX_PAYLOAD_SIZE = 100 * 1024;\n",
              "\n",
              "function _uploadFiles(inputId, outputId) {\n",
              "  const steps = uploadFilesStep(inputId, outputId);\n",
              "  const outputElement = document.getElementById(outputId);\n",
              "  // Cache steps on the outputElement to make it available for the next call\n",
              "  // to uploadFilesContinue from Python.\n",
              "  outputElement.steps = steps;\n",
              "\n",
              "  return _uploadFilesContinue(outputId);\n",
              "}\n",
              "\n",
              "// This is roughly an async generator (not supported in the browser yet),\n",
              "// where there are multiple asynchronous steps and the Python side is going\n",
              "// to poll for completion of each step.\n",
              "// This uses a Promise to block the python side on completion of each step,\n",
              "// then passes the result of the previous step as the input to the next step.\n",
              "function _uploadFilesContinue(outputId) {\n",
              "  const outputElement = document.getElementById(outputId);\n",
              "  const steps = outputElement.steps;\n",
              "\n",
              "  const next = steps.next(outputElement.lastPromiseValue);\n",
              "  return Promise.resolve(next.value.promise).then((value) => {\n",
              "    // Cache the last promise value to make it available to the next\n",
              "    // step of the generator.\n",
              "    outputElement.lastPromiseValue = value;\n",
              "    return next.value.response;\n",
              "  });\n",
              "}\n",
              "\n",
              "/**\n",
              " * Generator function which is called between each async step of the upload\n",
              " * process.\n",
              " * @param {string} inputId Element ID of the input file picker element.\n",
              " * @param {string} outputId Element ID of the output display.\n",
              " * @return {!Iterable<!Object>} Iterable of next steps.\n",
              " */\n",
              "function* uploadFilesStep(inputId, outputId) {\n",
              "  const inputElement = document.getElementById(inputId);\n",
              "  inputElement.disabled = false;\n",
              "\n",
              "  const outputElement = document.getElementById(outputId);\n",
              "  outputElement.innerHTML = '';\n",
              "\n",
              "  const pickedPromise = new Promise((resolve) => {\n",
              "    inputElement.addEventListener('change', (e) => {\n",
              "      resolve(e.target.files);\n",
              "    });\n",
              "  });\n",
              "\n",
              "  const cancel = document.createElement('button');\n",
              "  inputElement.parentElement.appendChild(cancel);\n",
              "  cancel.textContent = 'Cancel upload';\n",
              "  const cancelPromise = new Promise((resolve) => {\n",
              "    cancel.onclick = () => {\n",
              "      resolve(null);\n",
              "    };\n",
              "  });\n",
              "\n",
              "  // Wait for the user to pick the files.\n",
              "  const files = yield {\n",
              "    promise: Promise.race([pickedPromise, cancelPromise]),\n",
              "    response: {\n",
              "      action: 'starting',\n",
              "    }\n",
              "  };\n",
              "\n",
              "  cancel.remove();\n",
              "\n",
              "  // Disable the input element since further picks are not allowed.\n",
              "  inputElement.disabled = true;\n",
              "\n",
              "  if (!files) {\n",
              "    return {\n",
              "      response: {\n",
              "        action: 'complete',\n",
              "      }\n",
              "    };\n",
              "  }\n",
              "\n",
              "  for (const file of files) {\n",
              "    const li = document.createElement('li');\n",
              "    li.append(span(file.name, {fontWeight: 'bold'}));\n",
              "    li.append(span(\n",
              "        `(${file.type || 'n/a'}) - ${file.size} bytes, ` +\n",
              "        `last modified: ${\n",
              "            file.lastModifiedDate ? file.lastModifiedDate.toLocaleDateString() :\n",
              "                                    'n/a'} - `));\n",
              "    const percent = span('0% done');\n",
              "    li.appendChild(percent);\n",
              "\n",
              "    outputElement.appendChild(li);\n",
              "\n",
              "    const fileDataPromise = new Promise((resolve) => {\n",
              "      const reader = new FileReader();\n",
              "      reader.onload = (e) => {\n",
              "        resolve(e.target.result);\n",
              "      };\n",
              "      reader.readAsArrayBuffer(file);\n",
              "    });\n",
              "    // Wait for the data to be ready.\n",
              "    let fileData = yield {\n",
              "      promise: fileDataPromise,\n",
              "      response: {\n",
              "        action: 'continue',\n",
              "      }\n",
              "    };\n",
              "\n",
              "    // Use a chunked sending to avoid message size limits. See b/62115660.\n",
              "    let position = 0;\n",
              "    do {\n",
              "      const length = Math.min(fileData.byteLength - position, MAX_PAYLOAD_SIZE);\n",
              "      const chunk = new Uint8Array(fileData, position, length);\n",
              "      position += length;\n",
              "\n",
              "      const base64 = btoa(String.fromCharCode.apply(null, chunk));\n",
              "      yield {\n",
              "        response: {\n",
              "          action: 'append',\n",
              "          file: file.name,\n",
              "          data: base64,\n",
              "        },\n",
              "      };\n",
              "\n",
              "      let percentDone = fileData.byteLength === 0 ?\n",
              "          100 :\n",
              "          Math.round((position / fileData.byteLength) * 100);\n",
              "      percent.textContent = `${percentDone}% done`;\n",
              "\n",
              "    } while (position < fileData.byteLength);\n",
              "  }\n",
              "\n",
              "  // All done.\n",
              "  yield {\n",
              "    response: {\n",
              "      action: 'complete',\n",
              "    }\n",
              "  };\n",
              "}\n",
              "\n",
              "scope.google = scope.google || {};\n",
              "scope.google.colab = scope.google.colab || {};\n",
              "scope.google.colab._files = {\n",
              "  _uploadFiles,\n",
              "  _uploadFilesContinue,\n",
              "};\n",
              "})(self);\n",
              "</script> "
            ]
          },
          "metadata": {}
        },
        {
          "output_type": "stream",
          "name": "stdout",
          "text": [
            "Saving A1data.txt to A1data.txt\n",
            "data: [[ 4.  5.  6.]\n",
            " [ 3.  6.  8.]\n",
            " [10.  3.  5.]\n",
            " [11. 23.  7.]\n",
            " [ 2. 45.  8.]\n",
            " [ 1.  5.  9.]]\n",
            "Column Means:\n",
            "[ 5.16666667 14.5         7.16666667]\n",
            "\n",
            "Column Standard Deviations:\n",
            "[ 3.89087251 15.20690633  1.34370962]\n",
            "\n",
            "Row with Maximum Sum:\n",
            "[ 2. 45.  8.]\n",
            "\n",
            "Normalized Data:\n",
            "[[-0.29984706 -0.62471615 -0.86824314]\n",
            " [-0.55685882 -0.55895656  0.62017367]\n",
            " [ 1.24222352 -0.75623534 -1.61245155]\n",
            " [ 1.49923528  0.55895656 -0.12403473]\n",
            " [-0.81387058  2.00566765  0.62017367]\n",
            " [-1.07088234 -0.62471615  1.36438208]]\n"
          ]
        }
      ],
      "source": [
        "from google.colab import files\n",
        "uploaded = files.upload()\n",
        "# Load dataset\n",
        "data = np.loadtxt('A1data.txt')\n",
        "\n",
        "# Operations.\n",
        "#Get column means in \"column_means\",\n",
        "column_means = np.mean(data, axis=0)\n",
        "\n",
        "#column std deviation in \"column_stds\",\n",
        "column_stds = np.std(data, axis=0, ddof=0)\n",
        "\n",
        "#row with max sum in \"max_sum_row\"\n",
        "max_sum_row = np.argmax(np.sum(data, axis=1))\n",
        "\n",
        "# normalized data =(data-column_means)/column_stds in\n",
        "\n",
        "normalized_data = (data-column_means)/column_stds\n",
        "\n",
        "#begin your code\n",
        "\n",
        "\n",
        "#end your code\n",
        "print (\"data:\", data)\n",
        "\n",
        "print(\"Column Means:\")\n",
        "print(column_means)\n",
        "\n",
        "print(\"\\nColumn Standard Deviations:\")\n",
        "print(column_stds)\n",
        "\n",
        "print(\"\\nRow with Maximum Sum:\")\n",
        "print(data[max_sum_row])\n",
        "\n",
        "print(\"\\nNormalized Data:\")\n",
        "print(normalized_data)"
      ]
    },
    {
      "cell_type": "markdown",
      "metadata": {
        "id": "js9Nu_piBwvd"
      },
      "source": [
        "## Expected Result\n",
        "\n",
        "data: [[ 4.  5.  6.]<br>\n",
        " [ 3.  6.  8.]<br>\n",
        " [10.  3.  5.]<br>\n",
        " [11. 23.  7.]<br>\n",
        " [ 2. 45.  8.]<br>\n",
        " [ 1.  5.  9.]]<br>\n",
        "Column Means:<br>\n",
        "[ 5.16666667 14.5         7.16666667]<br>\n",
        "\n",
        "Column Standard Deviations:<br>\n",
        "[ 3.89087251 15.20690633  1.34370962]<br>\n",
        "\n",
        "Row with Maximum Sum:<br>\n",
        "[ 2. 45.  8.]<br>\n",
        "\n",
        "Normalized Data:\n",
        "[[-0.29984706 -0.62471615 -0.86824314]<br>\n",
        " [-0.55685882 -0.55895656  0.62017367]<br>\n",
        " [ 1.24222352 -0.75623534 -1.61245155]<br>\n",
        " [ 1.49923528  0.55895656 -0.12403473]<br>\n",
        " [-0.81387058  2.00566765  0.62017367]<br>\n",
        " [-1.07088234 -0.62471615  1.36438208]]"
      ]
    },
    {
      "cell_type": "markdown",
      "metadata": {
        "id": "Z0J7Mlf0D0K-"
      },
      "source": [
        "## 5 (2 points): Basic linear algebra in numpy\n",
        "**2 points**\n",
        "Use numpy linalg to solve simultaneous linear equations in 3 variables (x1,x2,x3)\n",
        "\n"
      ]
    },
    {
      "cell_type": "code",
      "execution_count": null,
      "metadata": {
        "id": "VSEa-qG7Bwvd",
        "colab": {
          "base_uri": "https://localhost:8080/"
        },
        "outputId": "4ec9191f-1042-4df8-f247-6933c1cb487b"
      },
      "outputs": [
        {
          "output_type": "stream",
          "name": "stdout",
          "text": [
            "x1 =  0.5000000000000001\n",
            "x2 =  0.4999999999999999\n",
            "x3 =  -1.9999999999999998\n"
          ]
        }
      ],
      "source": [
        "\n",
        "#Equation 1: -2 x1 - x3 = 1\n",
        "#Equation 2: -2 x2 - x3 = 1\n",
        "#Equation 3: 3 x1 + 3 x2 + x3 = 1\n",
        "\n",
        "#Start your code\n",
        "A = np.array([[-2, 0, -1],\n",
        "            [0,-2,-1],\n",
        "             [3, 3, 1]])\n",
        "\n",
        "b = np.array([1, 1, 1])\n",
        "\n",
        "\n",
        "#Return the solution to x1,x2,x3 in variable \"solution\"\n",
        "solution = np.linalg.solve(A, b)\n",
        "\n",
        "#end your code\n",
        "\n",
        "print('x1 = ', solution[0])\n",
        "print('x2 = ', solution[1])\n",
        "print('x3 = ', solution[2])"
      ]
    },
    {
      "cell_type": "markdown",
      "metadata": {
        "id": "WP7OpN98Bwvd"
      },
      "source": [
        "## Expected Output:\n",
        "x1 = 0.5<br>\n",
        "x2 = 0.5<br>\n",
        "x3 = -2.0"
      ]
    }
  ],
  "metadata": {
    "colab": {
      "provenance": []
    },
    "kernelspec": {
      "display_name": "Python 3 (ipykernel)",
      "language": "python",
      "name": "python3"
    },
    "language_info": {
      "codemirror_mode": {
        "name": "ipython",
        "version": 3
      },
      "file_extension": ".py",
      "mimetype": "text/x-python",
      "name": "python",
      "nbconvert_exporter": "python",
      "pygments_lexer": "ipython3",
      "version": "3.11.5"
    }
  },
  "nbformat": 4,
  "nbformat_minor": 0
}