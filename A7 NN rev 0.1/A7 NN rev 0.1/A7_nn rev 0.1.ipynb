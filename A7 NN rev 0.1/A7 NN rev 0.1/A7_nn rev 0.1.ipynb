{
 "cells": [
  {
   "cell_type": "markdown",
   "metadata": {},
   "source": [
    "# CS549 Machine Learning - Irfan Khan\n",
    "# Assignment 7: Simple Neural Network - First Principles\n",
    "\n",
    "**Total points: 10**\n",
    "\n",
    "Updated assignment designed by Ex-Professor Yang Xu Computer Science Dept, SDSU\n",
    "\n",
    "In this assignment, you will implement a 2-layer shallow neural network model.\n",
    "\n",
    "We will use the model to conduct the same binary classification task , i.e., classify two categories of the sign language dataset.\n",
    "\n",
    "The input size is the number of pixels in a image (\n",
    ". The size of hidden layer is determined by a hyperparameter n_h, and the size of output layer is 1. The provided utils file contains functions which get called for generating test data. Pls don't change the utils file."
   ]
  },
  {
   "cell_type": "code",
   "execution_count": 2,
   "metadata": {},
   "outputs": [],
   "source": [
    "#Don't change code in this cell\n",
    "import numpy as np\n",
    "import matplotlib.pyplot as plt\n",
    "from utils import *\n",
    "# import importlib\n",
    "# importlib.reload(utils)\n",
    "\n",
    "%matplotlib inline\n",
    "np.random.seed(1)"
   ]
  },
  {
   "cell_type": "code",
   "execution_count": 3,
   "metadata": {
    "tags": []
   },
   "outputs": [
    {
     "name": "stdout",
     "output_type": "stream",
     "text": [
      "(286, 4096)\n",
      "(286, 1)\n",
      "(125, 4096)\n",
      "(125, 1)\n"
     ]
    }
   ],
   "source": [
    "#Don't change code in this cell\n",
    "# Load data\n",
    "#Since data is in n x m format, convert into m x n format, m: sample size, n: number of features\n",
    "X_train_orig, y_train_orig, X_test_orig, y_test_orig = load_data()\n",
    "X_train = X_train_orig.T\n",
    "y_train = y_train_orig.T\n",
    "X_test = X_test_orig.T\n",
    "y_test = y_test_orig.T\n",
    "\n",
    "print(X_train.shape)\n",
    "print(y_train.shape)\n",
    "print(X_test.shape)\n",
    "print(y_test.shape)"
   ]
  },
  {
   "cell_type": "markdown",
   "metadata": {},
   "source": [
    "# Expected Result\n",
    "\n",
    "(286, 4096)<br>\n",
    "(286, 1)<br>\n",
    "(125, 4096)<br>\n",
    "(125, 1)"
   ]
  },
  {
   "cell_type": "markdown",
   "metadata": {},
   "source": [
    "### 1.1 Intialize parameters\n",
    "**1 point**\n",
    "\n",
    "The parameters associated with the hidden layer are $W^{[1]}$ and $b^{[1]}$, and the parameters associated with the output layer are $W^{[2]}$ and $b^{[2]}$.\n",
    "\n",
    "We use **tanh** as acitivation function for hidden layer, and **sigmoid** for output layer.\n",
    "\n",
    "**Instructions:**\n",
    "- Initialize parameters randomly\n",
    "- Use `np.random.randn((size_out, size_in))*0.01` to initialize $W^{[l]}$, in which `size_out` is the output size of current layer, and `size_in` is the input size from previous layer. \n",
    "- Use `np.zeros()` to initialize $b^{[l]}$"
   ]
  },
  {
   "cell_type": "code",
   "execution_count": 4,
   "metadata": {},
   "outputs": [],
   "source": [
    "def init_params(n_i, n_h, n_o):\n",
    "    \"\"\"\n",
    "    Args:\n",
    "    n_i -- size of input layer\n",
    "    n_h -- size of hidden layer\n",
    "    n_o -- size of output layer\n",
    "    \n",
    "    Return:\n",
    "    params -- a dict object containing all parameters:\n",
    "        W1 -- weight matrix of layer 1\n",
    "        b1 -- bias vector of layer 1\n",
    "        W2 -- weight matrix of layer 2\n",
    "        b2 -- bias vector of layer 2\n",
    "    \"\"\"\n",
    "    np.random.seed(2) # For deterministic repeatability, DO NOT change this line! \n",
    "    \n",
    "    ### START your code ###\n",
    "    W1 = np.random.randn(n_h, n_i) * 0.01\n",
    "    b1 = np.zeros((1, n_h))\n",
    "    W2 = np.random.randn(n_o, n_h) * 0.01\n",
    "    b2 = np.zeros((1, n_o))\n",
    "    \n",
    "    ### END your code ###\n",
    "    \n",
    "    params = {'W1': W1, 'b1': b1, 'W2': W2, 'b2': b2}\n",
    "    \n",
    "    \n",
    "    return params"
   ]
  },
  {
   "cell_type": "code",
   "execution_count": 5,
   "metadata": {
    "tags": []
   },
   "outputs": [
    {
     "name": "stdout",
     "output_type": "stream",
     "text": [
      "W1 = [[-0.00416758 -0.00056267 -0.02136196]\n",
      " [ 0.01640271 -0.01793436 -0.00841747]\n",
      " [ 0.00502881 -0.01245288 -0.01057952]\n",
      " [-0.00909008  0.00551454  0.02292208]]\n",
      "b1 = [[0. 0. 0. 0.]]\n",
      "W2 = [[ 0.00041539 -0.01117925  0.00539058 -0.0059616 ]]\n",
      "b2 = [[0.]]\n"
     ]
    }
   ],
   "source": [
    "# Evaluate Task don't change code in this cell\n",
    "ps = init_params(3, 4, 1)\n",
    "print('W1 =', ps['W1'])\n",
    "print('b1 =' ,ps['b1'])\n",
    "print('W2 =', ps['W2'])\n",
    "print('b2 =', ps['b2'])"
   ]
  },
  {
   "cell_type": "markdown",
   "metadata": {},
   "source": [
    "**Expected output**\n",
    "\n",
    "W1 = [[-0.00416758 -0.00056267 -0.02136196]<br>\n",
    " [ 0.01640271 -0.01793436 -0.00841747]<br>\n",
    " [ 0.00502881 -0.01245288 -0.01057952]<br>\n",
    " [-0.00909008  0.00551454  0.02292208]]<br>\n",
    "b1 = [[0. 0. 0. 0.]]<br>\n",
    "W2 = [[ 0.00041539 -0.01117925  0.00539058 -0.0059616 ]]<br>\n",
    "b2 = [[0.]]<br>\n",
    "\n",
    "### 1.2 Forward propagation\n",
    "\n",
    "**2 points**\n",
    "\n",
    "Use the following fomulas to implement forward propagation:\n",
    "- $z^{[1]} = XW^{[1]T} + b^{[1]}$\n",
    "- $a^{[1]} = tanh(z^{[1]})$ --> use `np.tanh` function\n",
    "- $z^{[2]} = a^{[1]}W^{[2]T} + b^{[2]}$\n",
    "- $z^{[2]} = \\sigma(z^{[2]})$ --> directly use the `sigmoid` function provided in `utils` package"
   ]
  },
  {
   "cell_type": "code",
   "execution_count": 6,
   "metadata": {},
   "outputs": [],
   "source": [
    "def forward_prop(X, params):\n",
    "    \"\"\"\n",
    "    Args:\n",
    "    X -- input data of shape (m,n_in)\n",
    "    params -- a python dict object containing all parameters (output of init_params)\n",
    "    \n",
    "    Return:\n",
    "    a2 -- the activation of the output layer\n",
    "    cache -- a python dict containing all intermediate values for later use in backprop\n",
    "             i.e., 'z1', 'a1', 'z2', 'a2'\n",
    "    \"\"\"\n",
    "    m = X.shape[0]\n",
    "    \n",
    "    # Retrieve parameters from params\n",
    "    ### START your code ###\n",
    "    W1 = params['W1']\n",
    "    b1 = params['b1']\n",
    "    W2 = params['W2']\n",
    "    b2 = params['b2']\n",
    "    \n",
    "    \n",
    "    ### END your code ###\n",
    "    \n",
    "    # Implement forward propagation\n",
    "    ### START your code ###\n",
    "    z1 = np.dot(X, W1.T) + b1\n",
    "    a1 = np.tanh(z1)\n",
    "    \n",
    "    z2 = np.dot(a1, W2.T) + b2\n",
    "    a2 = sigmoid(z2)\n",
    "    \n",
    "    \n",
    "    ### END your code ###\n",
    "    \n",
    "    assert a1.shape[0] == m\n",
    "    assert a2.shape[0] == m\n",
    "    \n",
    "    cache = {'z1': z1, 'a1': a1, 'z2': z2, 'a2': a2}\n",
    "    \n",
    "    return a2, cache"
   ]
  },
  {
   "cell_type": "code",
   "execution_count": 7,
   "metadata": {
    "tags": []
   },
   "outputs": [
    {
     "name": "stdout",
     "output_type": "stream",
     "text": [
      "mean(z1) = 0.0064157816283504174\n",
      "mean(a1) = 0.006410368144939439\n",
      "mean(z2) = -6.43251619627097e-05\n",
      "mean(a2) = 0.49998391870952386\n"
     ]
    }
   ],
   "source": [
    "# Evaluate Task don't change code in this cell\n",
    "X_tmp, params_tmp = forwardprop_testcase()\n",
    "\n",
    "a2, cache = forward_prop(X_tmp, params_tmp)\n",
    "\n",
    "print('mean(z1) =', np.mean(cache['z1']))\n",
    "print('mean(a1) =', np.mean(cache['a1']))\n",
    "print('mean(z2) =', np.mean(cache['z2']))\n",
    "print('mean(a2) =', np.mean(cache['a2']))\n"
   ]
  },
  {
   "cell_type": "markdown",
   "metadata": {},
   "source": [
    "**Expected output**\n",
    "\n",
    "mean(z1) = 0.0064157816283504174<br>\n",
    "mean(a1) = 0.006410368144939439<br>\n",
    "mean(z2) = -6.43251619627097e-05<br>\n",
    "mean(a2) = 0.49998391870952386<br>\n",
    "***\n",
    "\n",
    "### 1.3 Backward propagation\n",
    "**3 points**\n",
    "\n",
    "Use the following formulas to implement backward propagation:\n",
    "- $dz^{[2]} = \\frac{1}{m}(a^{[2]} - y)$\n",
    "- $dW^{[2]} = dz^{[2]T}a^{[1]}$ --> $m$ is the number of examples\n",
    "- $db^{[2]} = \\frac{1}{m}$ np.sum( $dz^{[2]}$, axis=0, keepdims=True)\n",
    "- $da^{[1]} = dz^{[2]}W^{[2]}$\n",
    "- $dz^{[1]} = da^{[1]}*g'(z^{[1]})$\n",
    "    - Here $*$ denotes element-wise multiply\n",
    "    - $g(z)$ is the tanh function, therefore its derivative $g'(z^{[1]}) = 1 - (g(z^{[1]}))^2 = 1 - (a^{[1]})^2$\n",
    "- $dW^{[1]} = dz^{[1]T}X$\n",
    "- $db^{[1]} = \\frac{1}{m}$ np.sum( $dz^{[1]}$, axis=0, keepdims=True)"
   ]
  },
  {
   "cell_type": "code",
   "execution_count": null,
   "metadata": {},
   "outputs": [],
   "source": [
    "def backward_prop(X, y, params, cache):\n",
    "    \"\"\"\n",
    "    Args:\n",
    "    X -- input data of shape (m,n_in)\n",
    "    y -- input label of shape (m,1)\n",
    "    params -- a python dict containing all parameters\n",
    "    cache -- a python dict containing 'Z1', 'A1', 'Z2' and 'A2' (output of forward_prop)\n",
    "    \n",
    "    Return:\n",
    "    grads -- a python dict containing the gradients w.r.t. all parameters,\n",
    "             i.e., dW1, db1, dW2, db2\n",
    "    \"\"\"\n",
    "    m = X.shape[0]\n",
    "    \n",
    "    # Retrieve parameters from params\n",
    "    ### START your code ###\n",
    "    W2 = params['W2']\n",
    "    \n",
    "    ### END your code ###\n",
    "    \n",
    "    # Retrive intermediate values stored in cache\n",
    "    ### START your code ###\n",
    "    \n",
    "    a1 = cache['a1']\n",
    "    a2 = cache['a2']\n",
    "    \n",
    "    ### END your code ###\n",
    "    \n",
    "    # Implement backprop\n",
    "    ### START your code ###\n",
    "    dz2 = (a2 - y) / m\n",
    "    dW2 = np.dot(dz2.T, a1)\n",
    "    db2 = (1/m) * np.sum(dz2, axis=0, keepdims=True)\n",
    "    \n",
    "    da1 = np.dot(dz2, W2)\n",
    "    dz1 = da1 * (1 - np.power(a1, 2))\n",
    "    dW1 = np.dot(dz1.T, X)\n",
    "    db1 = (1/m) * np.sum(dz1, axis=0, keepdims=True)\n",
    "    \n",
    "    ### END your code ###\n",
    "    \n",
    "    grads = {'dW1': dW1, 'db1': db1, 'dW2': dW2, 'db2': db2}\n",
    "    \n",
    "    return grads"
   ]
  },
  {
   "cell_type": "code",
   "execution_count": 9,
   "metadata": {
    "tags": []
   },
   "outputs": [
    {
     "name": "stdout",
     "output_type": "stream",
     "text": [
      "mean(dW1) -0.0001484446585247785\n",
      "mean(db1) -5.676757938210491e-05\n",
      "mean(dW2) -0.004079186018202939\n",
      "mean(db2) 0.019996784000000004\n"
     ]
    }
   ],
   "source": [
    "# Evaluate Task. Don't change code in this cell\n",
    "X_tmp, y_tmp, params_tmp, cache_tmp = backprop_testcase()\n",
    "\n",
    "grads = backward_prop(X_tmp, y_tmp, params_tmp, cache_tmp)\n",
    "print('mean(dW1)', np.mean(grads['dW1']))\n",
    "print('mean(db1)', np.mean(grads['db1']))\n",
    "print('mean(dW2)', np.mean(grads['dW2']))\n",
    "print('mean(db2)', np.mean(grads['db2']))\n",
    "\n"
   ]
  },
  {
   "cell_type": "markdown",
   "metadata": {},
   "source": [
    "**Expected output**\n",
    "\n",
    "mean(dW1) -0.00014844465852477848<br>\n",
    "mean(db1) -5.676757938210493e-05<br>\n",
    "mean(dW2) -0.00407918601820294<br>\n",
    "mean(db2) 0.019996784000000004<br>\n",
    "\n",
    "***\n",
    "\n",
    "### 1.4 Update parameters\n",
    "**1 point**\n",
    "\n",
    "Update $W^{[1]}, b^{[1]}, W^{[2]}, b^{[2]}$ accordingly:\n",
    "- $W^{[1]} = W^{[1]} - \\alpha\\ dW^{[1]}$\n",
    "- $b^{[1]} = b^{[1]} - \\alpha\\ db^{[1]}$\n",
    "- $W^{[2]} = W^{[2]} - \\alpha\\ dW^{[2]}$\n",
    "- $b^{[2]} = b^{[2]} - \\alpha\\ db^{[2]}$"
   ]
  },
  {
   "cell_type": "code",
   "execution_count": 10,
   "metadata": {},
   "outputs": [],
   "source": [
    "def update_params(params, grads, alpha):\n",
    "    \"\"\"\n",
    "    Args:\n",
    "    params -- a python dict containing all parameters\n",
    "    grads -- a python dict containing the gradients w.r.t. all parameters (output of backward_prop)\n",
    "    alpha -- learning rate\n",
    "    \n",
    "    Return:\n",
    "    params -- a python dict containing all updated parameters\n",
    "    \"\"\"\n",
    "    #start your code\n",
    "    # Retrieve parameters\n",
    "    params['W1'] = params['W1'] - alpha * grads['dW1']\n",
    "    params['b1'] = params['b1'] - alpha * grads['db1']\n",
    "    params['W2'] = params['W2'] - alpha * grads['dW2']\n",
    "    params['b2'] = params['b2'] - alpha * grads['db2']\n",
    "    \n",
    "    # Retrieve gradients\n",
    "    \n",
    "    \n",
    "    # Update each parameter and store back in params\n",
    "    \n",
    "    #End your code\n",
    "    return params"
   ]
  },
  {
   "cell_type": "code",
   "execution_count": 11,
   "metadata": {
    "tags": []
   },
   "outputs": [
    {
     "name": "stdout",
     "output_type": "stream",
     "text": [
      "W1 = [[ 0.004169   -0.00056367 -0.02136304]\n",
      " [ 0.0163645  -0.01790747 -0.00838857]\n",
      " [ 0.00504726 -0.01246588 -0.01059348]\n",
      " [-0.00911046  0.0055289   0.0229375 ]]\n",
      "b1 = [[-4.13852251e-07  1.12173654e-05 -5.39304763e-06  5.94305036e-06]]\n",
      "W2 = [[ 0.00048642 -0.011058    0.00546531 -0.00606545]]\n",
      "b2 = [[-0.00099984]]\n"
     ]
    }
   ],
   "source": [
    "# Evaluate Task. Don't change code in this cell.\n",
    "params_tmp, grads_tmp = update_params_testcase()\n",
    "\n",
    "params = update_params(params_tmp, grads_tmp, 0.01)\n",
    "print('W1 =', params['W1'])\n",
    "print('b1 =', params['b1'])\n",
    "print('W2 =', params['W2'])\n",
    "print('b2 =', params['b2'])"
   ]
  },
  {
   "cell_type": "markdown",
   "metadata": {},
   "source": [
    "**Expected output**\n",
    "\n",
    "W1 = [[ 0.004169   -0.00056367 -0.02136304]<br>\n",
    " [ 0.0163645  -0.01790747 -0.00838857]<br>\n",
    " [ 0.00504726 -0.01246588 -0.01059348]<br>\n",
    " [-0.00911046  0.0055289   0.0229375 ]]<br>\n",
    "b1 = [[-4.13852251e-07  1.12173654e-05 -5.39304763e-06  5.94305036e-06]]<br>\n",
    "W2 = [[ 0.00048642 -0.011058    0.00546531 -0.00606545]]<br>\n",
    "b2 = [[-0.00099984]]<br>\n",
    "\n",
    "***\n",
    "\n",
    "### 1.5 Integrated model\n",
    "**1.5 points**\n",
    "\n",
    "Integrate `init_params`, `forward_prop`, `backward_prop` and `update_params` into one model."
   ]
  },
  {
   "cell_type": "code",
   "execution_count": 20,
   "metadata": {},
   "outputs": [],
   "source": [
    "def nn_model(X, y, n_h, num_iters=10000, alpha=0.01, verbose=False):\n",
    "    \"\"\"\n",
    "    Args:\n",
    "    X -- training data of shape (m,n_in)\n",
    "    y -- training label of shape (m,1)\n",
    "    n_h -- size of hidden layer\n",
    "    num_iters -- number of iterations for gradient descent\n",
    "    verbose -- print cost every 1000 steps\n",
    "    \n",
    "    Return:\n",
    "    params -- parameters learned by the model. Use these to make predictions on new data\n",
    "    \"\"\"\n",
    "    np.random.seed(3)\n",
    "    m = X.shape[0]\n",
    "    n_in = X.shape[1]\n",
    "    n_out = 1\n",
    "    \n",
    "    # Initialize parameters and retrieve them, use init_params\n",
    "    ### START your code ###\n",
    "    params = init_params(n_in, n_h, n_out)\n",
    "    ### END your code ###\n",
    "    \n",
    "    # Gradient descent loop\n",
    "    for i in range(num_iters):\n",
    "        ### START your code ###\n",
    "        # Forward propagation\n",
    "        a2, cache = forward_prop(X, params)\n",
    "        \n",
    "        # Backward propagation\n",
    "        grads = backward_prop(X, y, params, cache)\n",
    "        \n",
    "        # Update parameters\n",
    "        params = update_params(params, grads, alpha)\n",
    "        \n",
    "        # Compute cost\n",
    "        cost = - (1/m) * np.sum(y * np.log(a2) + (1-y) * np.log(1-a2))\n",
    "        ### END your code ###\n",
    "        \n",
    "        # Print cost\n",
    "        if i % 1000 == 0 and verbose:\n",
    "            print('Cost after iter {}: {}'.format(i, cost))\n",
    "    \n",
    "    return params"
   ]
  },
  {
   "cell_type": "code",
   "execution_count": 21,
   "metadata": {
    "tags": []
   },
   "outputs": [
    {
     "name": "stdout",
     "output_type": "stream",
     "text": [
      "W1 = [[ 0.33222292 -0.07076426 -0.11503028]\n",
      " [ 1.50266111  0.04429628 -0.20513728]\n",
      " [ 1.55493072  0.05030062 -0.21407279]\n",
      " [-1.58953216 -0.0567708   0.21934892]\n",
      " [ 0.43065024 -0.08839451 -0.10283363]]\n",
      "b1 = [[-0.05502926 -0.33938949 -0.35337992  0.35972735 -0.07410474]]\n",
      "W2 = [[ 0.39386751  1.923321    2.00150814 -2.04849592  0.50569197]]\n",
      "b2 = [[-0.44031534]]\n"
     ]
    }
   ],
   "source": [
    "# Evaluate Task 1.5. Don't change code in this cell\n",
    "X_tmp, y_tmp = nn_model_testcase()\n",
    "\n",
    "params_tmp = nn_model(X_tmp, y_tmp, n_h=5, num_iters=5000, alpha=0.01)\n",
    "print('W1 =', params_tmp['W1'])\n",
    "print('b1 =', params_tmp['b1'])\n",
    "print('W2 =', params_tmp['W2'])\n",
    "print('b2 =', params_tmp['b2'])"
   ]
  },
  {
   "cell_type": "markdown",
   "metadata": {},
   "source": [
    "**Expected output**\n",
    "\n",
    "W1 = [[ 0.33222292 -0.07076426 -0.11503028]<br>\n",
    " [ 1.50266111  0.04429628 -0.20513728]<br>\n",
    " [ 1.55493072  0.05030062 -0.21407279]<br>\n",
    " [-1.58953216 -0.0567708   0.21934892]<br>\n",
    " [ 0.43065024 -0.08839451 -0.10283363]]<br?\n",
    "b1 = [[-0.05502926 -0.33938949 -0.35337992  0.35972735 -0.07410474]]<br>\n",
    "W2 = [[ 0.39386751  1.923321    2.00150814 -2.04849592  0.50569197]]<br>\n",
    "b2 = [[-0.44031534]]<br>\n",
    "\n",
    "***\n",
    "\n",
    "### 1.6 Predict\n",
    "**1 point**\n",
    "\n",
    "Use the learned parameters to make predictions on new data. \n",
    "- Compute $a^{[2]}$ by calling `forward_prop`. Note that the `cache` returned will not be used in making predictions.\n",
    "- Convert $a^{[2]}$ into a vector of 0 and 1."
   ]
  },
  {
   "cell_type": "code",
   "execution_count": 15,
   "metadata": {},
   "outputs": [],
   "source": [
    "def predict(X, params):\n",
    "    \"\"\"\n",
    "    Args:\n",
    "    X -- input data of shape (m,n_in)\n",
    "    params -- a python dict containing the learned parameters\n",
    "    \n",
    "    Return:\n",
    "    pred -- predictions of model on X, a vector of 0s and 1s\n",
    "    \"\"\"\n",
    "    \n",
    "   \n",
    "    ### START your code ###\n",
    "    a2, _ = forward_prop(X, params)\n",
    "    pred = (a2 > 0.5).astype(float)\n",
    "    \n",
    "    ### END your code ###\n",
    "    \n",
    "    \n",
    "    return pred"
   ]
  },
  {
   "cell_type": "code",
   "execution_count": 16,
   "metadata": {
    "tags": []
   },
   "outputs": [
    {
     "name": "stdout",
     "output_type": "stream",
     "text": [
      "predictions =  [[0.]\n",
      " [1.]\n",
      " [1.]\n",
      " [0.]\n",
      " [0.]]\n"
     ]
    }
   ],
   "source": [
    "# Evaluate Task 1.6. Don't change code in this cell\n",
    "# NOTE: the X_tmp and params_tmp are the ones generated in evaluating Task 1.5 (two cells above)\n",
    "pred = predict(X_tmp, params_tmp)\n",
    "print('predictions = ', pred)"
   ]
  },
  {
   "cell_type": "markdown",
   "metadata": {},
   "source": [
    "**Expected output**\n",
    "\n",
    "predictions =  [[0.]<br>\n",
    " [1.]<br>\n",
    " [1.]<br>\n",
    " [0.]<br>\n",
    " [0.]]<br>\n",
    "\n",
    "***\n",
    "\n",
    "### 1.7 Train and evaluate\n",
    "\n",
    "**0.5 point**\n",
    "\n",
    "Train the neural network model on X_train and y_train, and evaluate it on X_test and y_test.\n",
    "\n",
    "You can use the code from the previous assignment for Logistic Regression and Evaluation Metrics to compute the accuracy of your predictions."
   ]
  },
  {
   "cell_type": "code",
   "execution_count": 22,
   "metadata": {
    "scrolled": true,
    "tags": []
   },
   "outputs": [
    {
     "name": "stdout",
     "output_type": "stream",
     "text": [
      "Cost after iter 0: 0.6931077265775999\n",
      "Cost after iter 1000: 0.27178099586018784\n",
      "Cost after iter 2000: 0.054659232836622856\n",
      "Cost after iter 3000: 0.024305693413129683\n",
      "Cost after iter 4000: 0.014585870325865133\n",
      "Cost after iter 5000: 0.01012561547692077\n",
      "Cost after iter 6000: 0.00764059619251161\n",
      "Cost after iter 7000: 0.00608120133544274\n",
      "Cost after iter 8000: 0.005021476713730624\n",
      "Cost after iter 9000: 0.00425915815722728\n",
      "Accuracy = 95.20%\n"
     ]
    }
   ],
   "source": [
    "# Train the model on X_train and y_train, and print cost\n",
    "# DO NOT change the hyperparameters, so that your output matches the expected one.\n",
    "X_train_orig, y_train_orig, X_test_orig, y_test_orig = load_data()\n",
    "X_train = X_train_orig.T\n",
    "y_train = y_train_orig.T\n",
    "X_test = X_test_orig.T\n",
    "y_test = y_test_orig.T\n",
    "\n",
    "params = nn_model(X_train, y_train, n_h = 10, num_iters=10000, verbose=True)\n",
    "\n",
    "# Make predictions on X_test\n",
    "pred = predict(X_test, params)\n",
    "\n",
    "\n",
    "# Compute accuracy (acc) by comparing predictions and y_test\n",
    "### START YOUR CODE ###\n",
    "\n",
    "\n",
    "\n",
    "acc = np.mean(pred == y_test)\n",
    "### END YOUR CODE ###\n",
    "print('Accuracy = {0:.2f}%'.format(acc * 100))\n"
   ]
  },
  {
   "cell_type": "markdown",
   "metadata": {},
   "source": [
    "**Expected output**\n",
    "\n",
    "Cost after iter 0: 0.6931077265775999<br>\n",
    "Cost after iter 1000: 0.24817555119209228<br>\n",
    "Cost after iter 2000: 0.05465982816946285<br>\n",
    "Cost after iter 3000: 0.02429722600673885<br>\n",
    "Cost after iter 4000: 0.014580135588662868<br>\n",
    "Cost after iter 5000: 0.010121506027869343<br>\n",
    "Cost after iter 6000: 0.007637453828781526<br>\n",
    "Cost after iter 7000: 0.006078683154881118<br>\n",
    "Cost after iter 8000: 0.005019389206548974<br>\n",
    "Cost after iter 9000: 0.004257383349387319<br>\n",
    "Accuracy = 95.20%<br>\n",
    "***<br>\n",
    "Ignore any warnings"
   ]
  },
  {
   "cell_type": "code",
   "execution_count": null,
   "metadata": {},
   "outputs": [],
   "source": []
  }
 ],
 "metadata": {
  "kernelspec": {
   "display_name": "base",
   "language": "python",
   "name": "python3"
  },
  "language_info": {
   "codemirror_mode": {
    "name": "ipython",
    "version": 3
   },
   "file_extension": ".py",
   "mimetype": "text/x-python",
   "name": "python",
   "nbconvert_exporter": "python",
   "pygments_lexer": "ipython3",
   "version": "3.12.7"
  }
 },
 "nbformat": 4,
 "nbformat_minor": 4
}
